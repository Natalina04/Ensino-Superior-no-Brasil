{
  "nbformat": 4,
  "nbformat_minor": 0,
  "metadata": {
    "colab": {
      "provenance": [],
      "collapsed_sections": [],
      "include_colab_link": true
    },
    "kernelspec": {
      "name": "python3",
      "display_name": "Python 3"
    },
    "language_info": {
      "name": "python"
    }
  },
  "cells": [
    {
      "cell_type": "markdown",
      "metadata": {
        "id": "view-in-github",
        "colab_type": "text"
      },
      "source": [
        "<a href=\"https://colab.research.google.com/github/Natalina04/Ensino-Superior-no-Brasil/blob/main/2020_Machine_Learning_Previs%C3%A3o_de_nota_do_ENEM_MAT.ipynb\" target=\"_parent\"><img src=\"https://colab.research.google.com/assets/colab-badge.svg\" alt=\"Open In Colab\"/></a>"
      ]
    },
    {
      "cell_type": "markdown",
      "source": [
        "FGV EPGE - Escola de Pós-Graduação em Economia\n",
        "==\n",
        "Machine Learning\n",
        "\n",
        "\n",
        "Aluna:Maria Natalina Ferreira Costa"
      ],
      "metadata": {
        "id": "-T4NbUFRui3w"
      }
    },
    {
      "cell_type": "markdown",
      "source": [
        "**Premissa:**\n",
        "Esse trabalho parte da premissa que fatores socioeconômicos  tem uma relação direta com o desempenho dos alunos no Exame Nacional do Ensino Médio. Dessa forma, nos propomos a mostrar estatisticamente o que o senso comum já nos indica, que alunos sob determinadas condições precisam ser outliers do seu meio para sobressaírem à própria realidade.\n",
        "\n",
        "**Estruturação:**\n",
        "Inicialmente foram usados os dados do questionário socioeconômico preenchido pelos alunos no momento da inscrição para o ENEM e comparados com seu desempenho em cada área de conhecimento, verificando a correlação entre cada variável e a partir de então estabelecendo um modelo capaz de predizer o desempenho do aluno."
      ],
      "metadata": {
        "id": "Wj0UodpA0YJ6"
      }
    },
    {
      "cell_type": "code",
      "execution_count": null,
      "metadata": {
        "id": "Cy9LcxtDuhra"
      },
      "outputs": [],
      "source": [
        "#Importando Bibliotecas\n",
        "import seaborn as sns\n",
        "from google.colab import drive\n",
        "import sklearn\n",
        "#assert sklearn.__version__ >= \"0.20\"\n",
        "import numpy as np\n",
        "import matplotlib as mpl\n",
        "import matplotlib.pyplot as plt\n",
        "import urllib.request\n",
        "import pandas as pd\n",
        "import sklearn.linear_model\n",
        "import os\n",
        "from google.colab import drive"
      ]
    },
    {
      "cell_type": "code",
      "source": [
        "#Abrindo arquivo com os dados publicos de educação\n",
        "drive.mount('/content/Drive')\n",
        "root_path = '/content/drive/My Drive/\"Machine Learning - MFEE\"/MICRODADOS_ENEM_2020.csv'\n",
        "csv_enem = '/content/drive/My Drive/\"Machine Learning - MFEE\"/MICRODADOS_ENEM_2020.csv'"
      ],
      "metadata": {
        "colab": {
          "base_uri": "https://localhost:8080/"
        },
        "id": "Y7yGPd9CuilW",
        "outputId": "f3bfdbf3-6e71-40e7-bbe1-678a87b458bd"
      },
      "execution_count": null,
      "outputs": [
        {
          "output_type": "stream",
          "name": "stdout",
          "text": [
            "Drive already mounted at /content/Drive; to attempt to forcibly remount, call drive.mount(\"/content/Drive\", force_remount=True).\n"
          ]
        }
      ]
    },
    {
      "cell_type": "markdown",
      "source": [
        "**Tratamento inicial dos dados:**\n",
        "Inicialmente foram analisadas as colunas da tabela, que tem sua descrição no Dicionário de atributos. Foram excluídas todas as colunas com dados de alunos com necessidades especiais, códigos de cidades e de estados, vetores com o gabarito de cada aluno, códigos de provas, entre outros que são irrelevantes para a análise proposta.\n",
        "Posteriormente foi realizada a retirada dos dados dos alunos que faltaram a qualquer uma das provas ou que tiraram nota 0.\n",
        "\n"
      ],
      "metadata": {
        "id": "MQZL5C1hXqXT"
      }
    },
    {
      "cell_type": "code",
      "source": [
        "csv_enem = pd.read_csv('/content/Drive/MyDrive/MICRODADOS_ENEM_2020.csv', nrows=30, encoding='iso-8859-1', sep=';')\n",
        "csv_enem.head()"
      ],
      "metadata": {
        "colab": {
          "base_uri": "https://localhost:8080/",
          "height": 299
        },
        "id": "HrZIY15CB3fv",
        "outputId": "80e3a7ca-a449-43f2-a2d2-caf3a331bf03"
      },
      "execution_count": null,
      "outputs": [
        {
          "output_type": "execute_result",
          "data": {
            "text/plain": [
              "   NU_INSCRICAO  NU_ANO  TP_FAIXA_ETARIA TP_SEXO  TP_ESTADO_CIVIL  \\\n",
              "0  200006271946    2020               11       F                1   \n",
              "1  200001195856    2020               11       M                2   \n",
              "2  200001943954    2020                4       F                2   \n",
              "3  200001908998    2020                2       M                1   \n",
              "4  200001634757    2020                4       F                1   \n",
              "\n",
              "   TP_COR_RACA  TP_NACIONALIDADE  TP_ST_CONCLUSAO  TP_ANO_CONCLUIU  TP_ESCOLA  \\\n",
              "0            2                 1                1               11          1   \n",
              "1            3                 1                1               11          1   \n",
              "2            3                 2                2                0          2   \n",
              "3            3                 1                2                0          2   \n",
              "4            3                 2                1                1          1   \n",
              "\n",
              "   ...  Q016  Q017  Q018 Q019  Q020 Q021  Q022  Q023  Q024  Q025  \n",
              "0  ...   NaN   NaN   NaN  NaN   NaN  NaN   NaN   NaN   NaN   NaN  \n",
              "1  ...   NaN   NaN   NaN  NaN   NaN  NaN   NaN   NaN   NaN   NaN  \n",
              "2  ...     B     A     A    B     A    A     A     A     A     A  \n",
              "3  ...   NaN   NaN   NaN  NaN   NaN  NaN   NaN   NaN   NaN   NaN  \n",
              "4  ...     A     A     A    B     A    B     B     A     A     B  \n",
              "\n",
              "[5 rows x 76 columns]"
            ],
            "text/html": [
              "\n",
              "  <div id=\"df-756e31b6-3ff6-49da-abf5-309f37a80b36\">\n",
              "    <div class=\"colab-df-container\">\n",
              "      <div>\n",
              "<style scoped>\n",
              "    .dataframe tbody tr th:only-of-type {\n",
              "        vertical-align: middle;\n",
              "    }\n",
              "\n",
              "    .dataframe tbody tr th {\n",
              "        vertical-align: top;\n",
              "    }\n",
              "\n",
              "    .dataframe thead th {\n",
              "        text-align: right;\n",
              "    }\n",
              "</style>\n",
              "<table border=\"1\" class=\"dataframe\">\n",
              "  <thead>\n",
              "    <tr style=\"text-align: right;\">\n",
              "      <th></th>\n",
              "      <th>NU_INSCRICAO</th>\n",
              "      <th>NU_ANO</th>\n",
              "      <th>TP_FAIXA_ETARIA</th>\n",
              "      <th>TP_SEXO</th>\n",
              "      <th>TP_ESTADO_CIVIL</th>\n",
              "      <th>TP_COR_RACA</th>\n",
              "      <th>TP_NACIONALIDADE</th>\n",
              "      <th>TP_ST_CONCLUSAO</th>\n",
              "      <th>TP_ANO_CONCLUIU</th>\n",
              "      <th>TP_ESCOLA</th>\n",
              "      <th>...</th>\n",
              "      <th>Q016</th>\n",
              "      <th>Q017</th>\n",
              "      <th>Q018</th>\n",
              "      <th>Q019</th>\n",
              "      <th>Q020</th>\n",
              "      <th>Q021</th>\n",
              "      <th>Q022</th>\n",
              "      <th>Q023</th>\n",
              "      <th>Q024</th>\n",
              "      <th>Q025</th>\n",
              "    </tr>\n",
              "  </thead>\n",
              "  <tbody>\n",
              "    <tr>\n",
              "      <th>0</th>\n",
              "      <td>200006271946</td>\n",
              "      <td>2020</td>\n",
              "      <td>11</td>\n",
              "      <td>F</td>\n",
              "      <td>1</td>\n",
              "      <td>2</td>\n",
              "      <td>1</td>\n",
              "      <td>1</td>\n",
              "      <td>11</td>\n",
              "      <td>1</td>\n",
              "      <td>...</td>\n",
              "      <td>NaN</td>\n",
              "      <td>NaN</td>\n",
              "      <td>NaN</td>\n",
              "      <td>NaN</td>\n",
              "      <td>NaN</td>\n",
              "      <td>NaN</td>\n",
              "      <td>NaN</td>\n",
              "      <td>NaN</td>\n",
              "      <td>NaN</td>\n",
              "      <td>NaN</td>\n",
              "    </tr>\n",
              "    <tr>\n",
              "      <th>1</th>\n",
              "      <td>200001195856</td>\n",
              "      <td>2020</td>\n",
              "      <td>11</td>\n",
              "      <td>M</td>\n",
              "      <td>2</td>\n",
              "      <td>3</td>\n",
              "      <td>1</td>\n",
              "      <td>1</td>\n",
              "      <td>11</td>\n",
              "      <td>1</td>\n",
              "      <td>...</td>\n",
              "      <td>NaN</td>\n",
              "      <td>NaN</td>\n",
              "      <td>NaN</td>\n",
              "      <td>NaN</td>\n",
              "      <td>NaN</td>\n",
              "      <td>NaN</td>\n",
              "      <td>NaN</td>\n",
              "      <td>NaN</td>\n",
              "      <td>NaN</td>\n",
              "      <td>NaN</td>\n",
              "    </tr>\n",
              "    <tr>\n",
              "      <th>2</th>\n",
              "      <td>200001943954</td>\n",
              "      <td>2020</td>\n",
              "      <td>4</td>\n",
              "      <td>F</td>\n",
              "      <td>2</td>\n",
              "      <td>3</td>\n",
              "      <td>2</td>\n",
              "      <td>2</td>\n",
              "      <td>0</td>\n",
              "      <td>2</td>\n",
              "      <td>...</td>\n",
              "      <td>B</td>\n",
              "      <td>A</td>\n",
              "      <td>A</td>\n",
              "      <td>B</td>\n",
              "      <td>A</td>\n",
              "      <td>A</td>\n",
              "      <td>A</td>\n",
              "      <td>A</td>\n",
              "      <td>A</td>\n",
              "      <td>A</td>\n",
              "    </tr>\n",
              "    <tr>\n",
              "      <th>3</th>\n",
              "      <td>200001908998</td>\n",
              "      <td>2020</td>\n",
              "      <td>2</td>\n",
              "      <td>M</td>\n",
              "      <td>1</td>\n",
              "      <td>3</td>\n",
              "      <td>1</td>\n",
              "      <td>2</td>\n",
              "      <td>0</td>\n",
              "      <td>2</td>\n",
              "      <td>...</td>\n",
              "      <td>NaN</td>\n",
              "      <td>NaN</td>\n",
              "      <td>NaN</td>\n",
              "      <td>NaN</td>\n",
              "      <td>NaN</td>\n",
              "      <td>NaN</td>\n",
              "      <td>NaN</td>\n",
              "      <td>NaN</td>\n",
              "      <td>NaN</td>\n",
              "      <td>NaN</td>\n",
              "    </tr>\n",
              "    <tr>\n",
              "      <th>4</th>\n",
              "      <td>200001634757</td>\n",
              "      <td>2020</td>\n",
              "      <td>4</td>\n",
              "      <td>F</td>\n",
              "      <td>1</td>\n",
              "      <td>3</td>\n",
              "      <td>2</td>\n",
              "      <td>1</td>\n",
              "      <td>1</td>\n",
              "      <td>1</td>\n",
              "      <td>...</td>\n",
              "      <td>A</td>\n",
              "      <td>A</td>\n",
              "      <td>A</td>\n",
              "      <td>B</td>\n",
              "      <td>A</td>\n",
              "      <td>B</td>\n",
              "      <td>B</td>\n",
              "      <td>A</td>\n",
              "      <td>A</td>\n",
              "      <td>B</td>\n",
              "    </tr>\n",
              "  </tbody>\n",
              "</table>\n",
              "<p>5 rows × 76 columns</p>\n",
              "</div>\n",
              "      <button class=\"colab-df-convert\" onclick=\"convertToInteractive('df-756e31b6-3ff6-49da-abf5-309f37a80b36')\"\n",
              "              title=\"Convert this dataframe to an interactive table.\"\n",
              "              style=\"display:none;\">\n",
              "        \n",
              "  <svg xmlns=\"http://www.w3.org/2000/svg\" height=\"24px\"viewBox=\"0 0 24 24\"\n",
              "       width=\"24px\">\n",
              "    <path d=\"M0 0h24v24H0V0z\" fill=\"none\"/>\n",
              "    <path d=\"M18.56 5.44l.94 2.06.94-2.06 2.06-.94-2.06-.94-.94-2.06-.94 2.06-2.06.94zm-11 1L8.5 8.5l.94-2.06 2.06-.94-2.06-.94L8.5 2.5l-.94 2.06-2.06.94zm10 10l.94 2.06.94-2.06 2.06-.94-2.06-.94-.94-2.06-.94 2.06-2.06.94z\"/><path d=\"M17.41 7.96l-1.37-1.37c-.4-.4-.92-.59-1.43-.59-.52 0-1.04.2-1.43.59L10.3 9.45l-7.72 7.72c-.78.78-.78 2.05 0 2.83L4 21.41c.39.39.9.59 1.41.59.51 0 1.02-.2 1.41-.59l7.78-7.78 2.81-2.81c.8-.78.8-2.07 0-2.86zM5.41 20L4 18.59l7.72-7.72 1.47 1.35L5.41 20z\"/>\n",
              "  </svg>\n",
              "      </button>\n",
              "      \n",
              "  <style>\n",
              "    .colab-df-container {\n",
              "      display:flex;\n",
              "      flex-wrap:wrap;\n",
              "      gap: 12px;\n",
              "    }\n",
              "\n",
              "    .colab-df-convert {\n",
              "      background-color: #E8F0FE;\n",
              "      border: none;\n",
              "      border-radius: 50%;\n",
              "      cursor: pointer;\n",
              "      display: none;\n",
              "      fill: #1967D2;\n",
              "      height: 32px;\n",
              "      padding: 0 0 0 0;\n",
              "      width: 32px;\n",
              "    }\n",
              "\n",
              "    .colab-df-convert:hover {\n",
              "      background-color: #E2EBFA;\n",
              "      box-shadow: 0px 1px 2px rgba(60, 64, 67, 0.3), 0px 1px 3px 1px rgba(60, 64, 67, 0.15);\n",
              "      fill: #174EA6;\n",
              "    }\n",
              "\n",
              "    [theme=dark] .colab-df-convert {\n",
              "      background-color: #3B4455;\n",
              "      fill: #D2E3FC;\n",
              "    }\n",
              "\n",
              "    [theme=dark] .colab-df-convert:hover {\n",
              "      background-color: #434B5C;\n",
              "      box-shadow: 0px 1px 3px 1px rgba(0, 0, 0, 0.15);\n",
              "      filter: drop-shadow(0px 1px 2px rgba(0, 0, 0, 0.3));\n",
              "      fill: #FFFFFF;\n",
              "    }\n",
              "  </style>\n",
              "\n",
              "      <script>\n",
              "        const buttonEl =\n",
              "          document.querySelector('#df-756e31b6-3ff6-49da-abf5-309f37a80b36 button.colab-df-convert');\n",
              "        buttonEl.style.display =\n",
              "          google.colab.kernel.accessAllowed ? 'block' : 'none';\n",
              "\n",
              "        async function convertToInteractive(key) {\n",
              "          const element = document.querySelector('#df-756e31b6-3ff6-49da-abf5-309f37a80b36');\n",
              "          const dataTable =\n",
              "            await google.colab.kernel.invokeFunction('convertToInteractive',\n",
              "                                                     [key], {});\n",
              "          if (!dataTable) return;\n",
              "\n",
              "          const docLinkHtml = 'Like what you see? Visit the ' +\n",
              "            '<a target=\"_blank\" href=https://colab.research.google.com/notebooks/data_table.ipynb>data table notebook</a>'\n",
              "            + ' to learn more about interactive tables.';\n",
              "          element.innerHTML = '';\n",
              "          dataTable['output_type'] = 'display_data';\n",
              "          await google.colab.output.renderOutput(dataTable, element);\n",
              "          const docLink = document.createElement('div');\n",
              "          docLink.innerHTML = docLinkHtml;\n",
              "          element.appendChild(docLink);\n",
              "        }\n",
              "      </script>\n",
              "    </div>\n",
              "  </div>\n",
              "  "
            ]
          },
          "metadata": {},
          "execution_count": 8
        }
      ]
    },
    {
      "cell_type": "code",
      "source": [
        "#Retirada de colunas com informações irrelevantes para a análise\n",
        "cols = csv_enem.columns.values.tolist()\n",
        "drop_cols = ('IN', 'NU_ANO', 'TX_', 'NO_', 'SG_')\n",
        "for col in cols[:]:\n",
        "    if col.startswith(drop_cols):\n",
        "        cols.remove(col)\n",
        "\n",
        "csv_enem = pd.read_csv('/content/Drive/MyDrive/MICRODADOS_ENEM_2020.csv', encoding='iso-8859-1', sep=';', usecols=cols)\n",
        "\n",
        "print('Meu banco de dados agora tem', len(cols), 'colunas e', len(csv_enem.index), 'linhas.' )"
      ],
      "metadata": {
        "colab": {
          "base_uri": "https://localhost:8080/"
        },
        "id": "o6QuNzjmM6SF",
        "outputId": "a651a7bf-2581-478d-ea3d-777a7b40c6c1"
      },
      "execution_count": null,
      "outputs": [
        {
          "output_type": "stream",
          "name": "stdout",
          "text": [
            "Meu banco de dados agora tem 62 colunas e 5783109 linhas.\n"
          ]
        }
      ]
    },
    {
      "cell_type": "code",
      "source": [
        "# Retirada dos dados de alunos que faltaram a qualquer uma das provas\n",
        "for col in ['TP_PRESENCA_CN', 'TP_PRESENCA_CH', 'TP_PRESENCA_LC', 'TP_PRESENCA_MT']:\n",
        "    csv_enem = csv_enem[csv_enem[col] == 1]\n",
        "\n",
        "print('Meu banco de dados agora tem', len(cols), 'colunas e', len(csv_enem.index), 'linhas.' )"
      ],
      "metadata": {
        "colab": {
          "base_uri": "https://localhost:8080/"
        },
        "id": "kbvB7iL0Rniz",
        "outputId": "4301072b-eb6c-4cff-e042-b1ac96027c7d"
      },
      "execution_count": null,
      "outputs": [
        {
          "output_type": "stream",
          "name": "stdout",
          "text": [
            "Meu banco de dados agora tem 62 colunas e 2588681 linhas.\n"
          ]
        }
      ]
    },
    {
      "cell_type": "code",
      "source": [
        "# Eliminando os alunos que tiraram 0 em qualquer uma das provas\n",
        "for col in ['NU_NOTA_MT', 'NU_NOTA_CH', 'NU_NOTA_CN', 'NU_NOTA_LC', 'NU_NOTA_REDACAO']:\n",
        "    csv_enem = csv_enem[csv_enem[col] != 0]\n",
        "\n",
        "print('Meu banco de dados agora tem', len(cols), 'colunas e', len(csv_enem.index), 'linhas.' )"
      ],
      "metadata": {
        "colab": {
          "base_uri": "https://localhost:8080/"
        },
        "id": "B2hVUcwVV-hB",
        "outputId": "5ff163b3-9023-4307-a4ec-9f8749aee883"
      },
      "execution_count": null,
      "outputs": [
        {
          "output_type": "stream",
          "name": "stdout",
          "text": [
            "Meu banco de dados agora tem 62 colunas e 2527394 linhas.\n"
          ]
        }
      ]
    },
    {
      "cell_type": "code",
      "source": [
        "# Eliminando os alunos que não estão concluindo o 3º ano em 2019\n",
        "#for col in ['TP_ST_CONCLUSAO']:\n",
        "    #csv_enem = csv_enem[csv_enem[col] == 2]\n",
        "\n",
        "#print('Meu banco de dados agora tem', len(cols), 'colunas e', len(csv_enem.index), 'linhas.' )"
      ],
      "metadata": {
        "id": "Pxx8U-oIr327"
      },
      "execution_count": null,
      "outputs": []
    },
    {
      "cell_type": "markdown",
      "source": [
        "**1 - Análise dos atributos com relação à nota de Matemática**\n",
        "--\n",
        "\n",
        "A partir de agora vamos analisar a distribuição dos resultados na prova de matemática e a relação desta com os atributos."
      ],
      "metadata": {
        "id": "4aH_QGjlZ3h_"
      }
    },
    {
      "cell_type": "code",
      "source": [
        "# Análise da distribuição dos resultados de matemática\n",
        "notamt = 'NU_NOTA_MT'\n",
        "csv_enem[notamt].describe()"
      ],
      "metadata": {
        "colab": {
          "base_uri": "https://localhost:8080/"
        },
        "id": "7eSK33piaOwG",
        "outputId": "e092f178-14bc-4e98-9c16-2cfd21972c4d"
      },
      "execution_count": null,
      "outputs": [
        {
          "output_type": "execute_result",
          "data": {
            "text/plain": [
              "count    2.527394e+06\n",
              "mean     5.226298e+02\n",
              "std      1.170359e+02\n",
              "min      3.271000e+02\n",
              "25%      4.276000e+02\n",
              "50%      5.078000e+02\n",
              "75%      6.043000e+02\n",
              "max      9.750000e+02\n",
              "Name: NU_NOTA_MT, dtype: float64"
            ]
          },
          "metadata": {},
          "execution_count": 14
        }
      ]
    },
    {
      "cell_type": "code",
      "source": [
        "plt.title('Distribuição de Notas de Matemática', fontsize=15)\n",
        "plt.xlabel('Nota de Matemática', fontsize=13)\n",
        "plt.ylabel('Frequência', fontsize=13)\n",
        "plt.tick_params(labelsize=12)\n",
        "plt.hist(csv_enem[notamt], 50, rwidth=3, edgecolor='black')\n",
        "plt.show()"
      ],
      "metadata": {
        "colab": {
          "base_uri": "https://localhost:8080/",
          "height": 304
        },
        "id": "1xLAdekFbShQ",
        "outputId": "4bb07904-9544-46ca-9192-2998dd7d8048"
      },
      "execution_count": null,
      "outputs": [
        {
          "output_type": "display_data",
          "data": {
            "text/plain": [
              "<Figure size 432x288 with 1 Axes>"
            ],
            "image/png": "[encoded data removed]"
          },
          "metadata": {
            "needs_background": "light"
          }
        }
      ]
    },
    {
      "cell_type": "markdown",
      "source": [
        "**1.1 - Escolaridade do pai vs Nota Matemática**\n",
        "\n",
        "Conforme gráfico abaixo, pode-se observar que a escolaridade do pai tem grande influência para a nota de matemática, de modo que, quanto maior a escolaridade, maior a nota esperada.\n",
        "\n",
        "Nota-se ainda uma grande quantidade de respostas \"Não sei\", que poderão gerar problemas na montagem do modelo, uma vez que podem ser encarados como Missing Values."
      ],
      "metadata": {
        "id": "S5sEEADUIKOF"
      }
    },
    {
      "cell_type": "code",
      "source": [
        "# Análise da relação Nota de Matemática x Escolaridade do Pai\n",
        "var1 = 'Q001'\n",
        "A = 'Nunca estudou'\n",
        "B = 'Ensino Fundamental Incompleto'\n",
        "C = 'Ensino Fundamental Completo'\n",
        "D = 'Ensino Médio Incompleto'\n",
        "E = 'Ensino Médio Completo'\n",
        "F = 'Ensino Superior Completo'\n",
        "G = 'Pós-graduação Completo'\n",
        "H = 'Não sei'\n",
        "plotdata = pd.concat([csv_enem[notamt], csv_enem[var1].map({'A': A, 'B': B, 'C': C, 'D': D, 'E': E, 'F': F, 'G': G, 'H': H})], axis=1)\n",
        "f, ax = plt.subplots(figsize=(14, 6))\n",
        "fig = sns.barplot(x=var1, y=csv_enem[notamt], data=plotdata, order=[A, B, C, D, E, F, G, H], ci='sd', color='salmon', saturation=.5)\n",
        "fig.axis(ymin=320);\n",
        "ax.set_xticklabels(ax.get_xticklabels(),rotation=60)\n",
        "fig.set_title(\"Qual a escolaridade do seu pai?\", fontsize=15)\n",
        "fig.set_xlabel(\"Escolaridade do Pai\", fontsize=13)\n",
        "fig.set_ylabel(\"Nota de Matemática\", fontsize=13)"
      ],
      "metadata": {
        "colab": {
          "base_uri": "https://localhost:8080/",
          "height": 561
        },
        "id": "2yN7o1ulg_u7",
        "outputId": "21229af5-9587-44cf-baab-8e544b425a14"
      },
      "execution_count": null,
      "outputs": [
        {
          "output_type": "execute_result",
          "data": {
            "text/plain": [
              "Text(0, 0.5, 'Nota de Matemática')"
            ]
          },
          "metadata": {},
          "execution_count": 16
        },
        {
          "output_type": "display_data",
          "data": {
            "text/plain": [
              "<Figure size 1008x432 with 1 Axes>"
            ],
            "image/png": "[encoded data removed]"
          },
          "metadata": {
            "needs_background": "light"
          }
        }
      ]
    },
    {
      "cell_type": "markdown",
      "source": [
        "**1.2 - Escolaridade da mãe vs Nota Matemática**\n",
        "\n",
        "Conforme gráfico abaixo, pode-se observar que a escolaridade da mãe tem grande influência para a nota de matemática, de modo que, quanto maior a escolaridade, maior a nota esperada.\n",
        "\n",
        "Nota-se ainda uma grande quantidade de respostas \"Não sei\", que poderão gerar problemas na montagem do modelo, uma vez que podem ser encarados como Missing Values."
      ],
      "metadata": {
        "id": "xMxfZkCTiki2"
      }
    },
    {
      "cell_type": "code",
      "source": [
        "# Análise da relação Nota de Matemática x Escolaridade da Mãe\n",
        "var2 = 'Q002'\n",
        "A = 'Nunca estudou'\n",
        "B = 'Fundamental Incompleto'\n",
        "C = 'Fundamental Completo'\n",
        "D = 'Médio Incompleto'\n",
        "E = 'Médio Completo'\n",
        "F = 'Superior Completo'\n",
        "G = 'Pós-graduação Completo'\n",
        "H = 'Não sei'\n",
        "plotdata = pd.concat([csv_enem[notamt], csv_enem[var2].map({'A': A, 'B': B, 'C': C, 'D': D, 'E': E, 'F': F, 'G': G, 'H': H})], axis=1)\n",
        "f, ax = plt.subplots(figsize=(14, 6))\n",
        "fig = sns.barplot(x=var2, y=csv_enem[notamt], data=plotdata, order=[A, B, C, D, E, F, G, H], ci='sd', color='salmon', saturation=.5)\n",
        "fig.axis(ymin=320);\n",
        "ax.set_xticklabels(ax.get_xticklabels(),rotation=60)\n",
        "fig.set_title(\"Qual a escolaridade da sua Mãe?\", fontsize=15)\n",
        "fig.set_xlabel(\"Escolaridade da Mãe\", fontsize=13)\n",
        "fig.set_ylabel(\"Nota de Matemática\", fontsize=13)"
      ],
      "metadata": {
        "colab": {
          "base_uri": "https://localhost:8080/",
          "height": 529
        },
        "id": "ukiGMzLkikFF",
        "outputId": "24bec6ee-d967-4542-f114-8c505c270b61"
      },
      "execution_count": null,
      "outputs": [
        {
          "output_type": "execute_result",
          "data": {
            "text/plain": [
              "Text(0, 0.5, 'Nota de Matemática')"
            ]
          },
          "metadata": {},
          "execution_count": 17
        },
        {
          "output_type": "display_data",
          "data": {
            "text/plain": [
              "<Figure size 1008x432 with 1 Axes>"
            ],
            "image/png": "[encoded data removed]"
          },
          "metadata": {
            "needs_background": "light"
          }
        }
      ]
    },
    {
      "cell_type": "markdown",
      "source": [
        "**1.3 - Ocupação do pai vs Nota Matemática**\n",
        "\n",
        "Conforme gráfico abaixo, pode-se observar que a ocupação do pai tem grande influência para a nota de matemática, de modo que, quanto maior a escolaridade, maior a nota esperada.\n",
        "\n",
        "Nota-se ainda uma grande quantidade de respostas \"Não sei\", que poderão gerar problemas na montagem do modelo, uma vez que podem ser encarados como Missing Values."
      ],
      "metadata": {
        "id": "XrP987IwoD-H"
      }
    },
    {
      "cell_type": "code",
      "source": [
        "# Análise da relação Nota de Matemática x Ocupação do Pai\n",
        "var3 = 'Q003'\n",
        "A = 'Grupo 1'#Lavrador, agricultor sem empregados'\n",
        "B = 'Grupo 2' # Diarista, empregado doméstico'\n",
        "C = 'Grupo 3' #Padeiro, cozinheiro industrial'\n",
        "D = 'Grupo 4' #Professor, técnico, policial, militar'\n",
        "E = 'Grupo 5' #Médico, engenheiro, dentista'\n",
        "F = 'Não sei'\n",
        "plotdata = pd.concat([csv_enem[notamt], csv_enem[var3].map({'A': A, 'B': B, 'C': C, 'D': D, 'E': E, 'F': F,})], axis=1)\n",
        "f, ax = plt.subplots(figsize=(14, 6))\n",
        "fig = sns.barplot(x=var3, y=csv_enem[notamt], data=plotdata, order=[A, B, C, D, E, F], ci='sd', color='salmon', saturation=.5)\n",
        "fig.axis(ymin=320);\n",
        "ax.set_xticklabels(ax.get_xticklabels(),rotation=1)\n",
        "fig.set_title(\"Qual a ocupação do seu pai?\", fontsize=15)\n",
        "fig.set_xlabel(\"Ocupação do Pai\", fontsize=13)\n",
        "fig.set_ylabel(\"Nota de Matemática\", fontsize=13)"
      ],
      "metadata": {
        "colab": {
          "base_uri": "https://localhost:8080/",
          "height": 427
        },
        "id": "0YoOYoHxn_dr",
        "outputId": "c7f477c6-7e98-45ce-8adf-b0dbb90f3cd7"
      },
      "execution_count": null,
      "outputs": [
        {
          "output_type": "execute_result",
          "data": {
            "text/plain": [
              "Text(0, 0.5, 'Nota de Matemática')"
            ]
          },
          "metadata": {},
          "execution_count": 18
        },
        {
          "output_type": "display_data",
          "data": {
            "text/plain": [
              "<Figure size 1008x432 with 1 Axes>"
            ],
            "image/png": "[encoded data removed]"
          },
          "metadata": {
            "needs_background": "light"
          }
        }
      ]
    },
    {
      "cell_type": "markdown",
      "source": [
        "**1.4 - Ocupação da mãe vs Nota Matemática**\n",
        "\n",
        "Conforme gráfico abaixo, pode-se observar que a ocupação da mãe tem grande influência para a nota de matemática, de modo que, quanto maior a escolaridade, maior a nota esperada.\n",
        "\n",
        "Nota-se ainda uma grande quantidade de respostas \"Não sei\", que poderão gerar problemas na montagem do modelo, uma vez que podem ser encarados como Missing Values."
      ],
      "metadata": {
        "id": "slJpo7tApVIU"
      }
    },
    {
      "cell_type": "code",
      "source": [
        "# Análise da relação Nota de Matemática x Ocupação da Mãe\n",
        "var4 = 'Q004'\n",
        "A = 'Grupo 1'#Lavradora, agricultora sem empregados'\n",
        "B = 'Grupo 2' # Diarista, empregada doméstica'\n",
        "C = 'Grupo 3' #Padeira, cozinheira industrial'\n",
        "D = 'Grupo 4' #Professora, técnica, policial, militar'\n",
        "E = 'Grupo 5' #Médica, engenheira, dentista'\n",
        "F = 'Não sei'\n",
        "plotdata = pd.concat([csv_enem[notamt], csv_enem[var4].map({'A': A, 'B': B, 'C': C, 'D': D, 'E': E, 'F': F,})], axis=1)\n",
        "f, ax = plt.subplots(figsize=(14, 6))\n",
        "fig = sns.barplot(x=var4, y=csv_enem[notamt], data=plotdata, order=[A, B, C, D, E, F], ci='sd', color='salmon', saturation=.5)\n",
        "fig.axis(ymin=320);\n",
        "ax.set_xticklabels(ax.get_xticklabels(),rotation=1)\n",
        "fig.set_title(\"Qual a ocupação da sua mãe ?\", fontsize=15)\n",
        "fig.set_xlabel(\"Ocupação da Mãe\", fontsize=13)\n",
        "fig.set_ylabel(\"Nota de Matemática\", fontsize=13)"
      ],
      "metadata": {
        "colab": {
          "base_uri": "https://localhost:8080/",
          "height": 427
        },
        "id": "JET0unjipUpf",
        "outputId": "8b5188f7-9afc-4e00-c2df-6c7ab03ddbe6"
      },
      "execution_count": null,
      "outputs": [
        {
          "output_type": "execute_result",
          "data": {
            "text/plain": [
              "Text(0, 0.5, 'Nota de Matemática')"
            ]
          },
          "metadata": {},
          "execution_count": 20
        },
        {
          "output_type": "display_data",
          "data": {
            "text/plain": [
              "<Figure size 1008x432 with 1 Axes>"
            ],
            "image/png": "[encoded data removed]"
          },
          "metadata": {
            "needs_background": "light"
          }
        }
      ]
    },
    {
      "cell_type": "markdown",
      "source": [
        "**1.5 - Número de coabitantes vs Nota Matemática**\n",
        "\n",
        "Do gráfico abaixo podemos observar que o número de coabitantes não é um fator que influencia a nota de modo direto."
      ],
      "metadata": {
        "id": "fzWGcZ9XWg6n"
      }
    },
    {
      "cell_type": "code",
      "source": [
        "# Análise da relação Nota de Matemática x Número de residentes na mesma casa\n",
        "var5 = 'Q005'\n",
        "plotdata = pd.concat([csv_enem[notamt], csv_enem[var5]], axis=1)\n",
        "f, ax = plt.subplots(figsize=(14, 6))\n",
        "fig = sns.barplot(x=var5, y=csv_enem[notamt], data=plotdata, ci='sd', color='salmon', saturation=.5)\n",
        "fig.axis(ymin=320);\n",
        "ax.set_xticklabels(ax.get_xticklabels(),rotation=70)\n",
        "fig.set_title(\"Incluindo você, quantas pessoas moram atualmente na sua residência?\", fontsize=15)\n",
        "fig.set_xlabel(\"Número de residentes da mesma casa\", fontsize=13)\n",
        "fig.set_ylabel(\"Nota de Matemática\", fontsize=13)"
      ],
      "metadata": {
        "colab": {
          "base_uri": "https://localhost:8080/",
          "height": 441
        },
        "id": "s7x-NJ3Y9NEx",
        "outputId": "238ff36e-1c40-4aa4-a9c4-7464843ff595"
      },
      "execution_count": null,
      "outputs": [
        {
          "output_type": "execute_result",
          "data": {
            "text/plain": [
              "Text(0, 0.5, 'Nota de Matemática')"
            ]
          },
          "metadata": {},
          "execution_count": 21
        },
        {
          "output_type": "display_data",
          "data": {
            "text/plain": [
              "<Figure size 1008x432 with 1 Axes>"
            ],
            "image/png": "[encoded data removed]"
          },
          "metadata": {
            "needs_background": "light"
          }
        }
      ]
    },
    {
      "cell_type": "markdown",
      "source": [
        "**1.6 - Renda Familiar vs Nota Matemática**\n",
        "\n",
        "Do Gráfico abaixo podemos tirar a conclusão que a renda familiar tem relação direta com a nota de matemática. Conforme observamos, alunos que não tem qualquer renda tem média muito inferior a alunos com renda superior a R$ 19.960,00.\n",
        "\n",
        "Uma dúvida que surgiu fica por conta de indicadores financeiros de qualidade de vida de um país, que são medidas por renda per capita. De forma análoga podemos dizer o mesmo em relação a este quesito? Afinal, família de classe média mas com muitos integrantes sofrem queda brusca na qualidade de vida em termos financeiros e perdem acesso a melhores oportunidades de educação em virtude da baixa renda disponível para habitante da casa. Dessa forma, nosso próximo passo será verificar se a relação da entre renda per capita e nota de matemática se mantém, conforme observado nessa relação da nota com a renda familiar.\n"
      ],
      "metadata": {
        "id": "hR6NR9c_7U5a"
      }
    },
    {
      "cell_type": "code",
      "source": [
        "# Análise da relação Nota de Matemática x Renda familiar\n",
        "var6 = 'Q006'\n",
        "A = 'Nenhuma renda'\n",
        "B = 'Até 998'\n",
        "C = 'De 998 a 1.497'\n",
        "D = 'De 1.497 a 1.996'\n",
        "E = 'De 1.996 a 2.495'\n",
        "F = 'De 2.495 a 2.994'\n",
        "G = 'De 2.994 a 3.992'\n",
        "H = 'De 3.992 a 4.990'\n",
        "I = 'De 4.990 a 5.988'\n",
        "J = 'De 5.988 a 6.986'\n",
        "K = 'De 6.986 a 7.984'\n",
        "L = 'De 7.984 a 8.982'\n",
        "M = 'De 8.982 a 9.980'\n",
        "N = 'De 9.980 a 11.976'\n",
        "O = 'De 11.976 a 14.970'\n",
        "P = 'De 14.970 a 19.960'\n",
        "Q = 'Mais de 19.960'\n",
        "plotdata = pd.concat([csv_enem[notamt], csv_enem[var6].map({'A': A, 'B': B, 'C': C, 'D': D, 'E': E, 'F': F, 'G': G, 'H': H, 'I': I, 'J': J, 'K': K, 'L': L, 'M': M, 'N': N, 'O': O, 'P': P, 'Q': Q})], axis=1)\n",
        "f, ax = plt.subplots(figsize=(14, 6))\n",
        "fig = sns.barplot(x=var6, y=csv_enem[notamt], data=plotdata, order=[A, B, C, D, E, F, G, H, I, J, K, L, M, N, O, P, Q], ci='sd', color='salmon', saturation=.5)\n",
        "fig.axis(ymin=320);\n",
        "ax.set_xticklabels(ax.get_xticklabels(),rotation=70)\n",
        "fig.set_title(\"Qual é a renda mensal de sua família?\", fontsize=15)\n",
        "fig.set_xlabel(\"Faixa de renda\", fontsize=13)\n",
        "fig.set_ylabel(\"Nota de Matemática\", fontsize=13)"
      ],
      "metadata": {
        "colab": {
          "base_uri": "https://localhost:8080/",
          "height": 513
        },
        "id": "T73cSmIcqs1O",
        "outputId": "ea5ed06f-6176-41e5-ba29-1f104d0ac8d7"
      },
      "execution_count": null,
      "outputs": [
        {
          "output_type": "execute_result",
          "data": {
            "text/plain": [
              "Text(0, 0.5, 'Nota de Matemática')"
            ]
          },
          "metadata": {},
          "execution_count": 22
        },
        {
          "output_type": "display_data",
          "data": {
            "text/plain": [
              "<Figure size 1008x432 with 1 Axes>"
            ],
            "image/png": "[encoded data removed]"
          },
          "metadata": {
            "needs_background": "light"
          }
        }
      ]
    },
    {
      "cell_type": "markdown",
      "source": [
        "**1.7 - Frequência de empregado(a) doméstico(a) vs Nota Matemática**\n",
        "\n",
        "Do gráfico abaixo podemos perceber que há uma relação direta entre a nota e a frequência com que o aluno dispõe do serviço de empregado doméstico. Apesar de ser uma feature diretamente relacionada ao aspecto econômico, há uma singularidade nessa questão no que tange à disponibilidade do aluno para estudo, uma vez que quando há alguém contratado para realizar tarefas domésticas, os alunos não atuarão nessas funções ou caso o façam, o farão com intensidade inferior a quem não dispõe desse serviço.\n",
        "\n",
        "A proposição acima faz sentido analisando os dados do gráfico. Não há uma diferença muito significativa entre quem dispõe de empregados com alguma frequência, ainda que baixa, ao passo que há uma grande diferença entre alunos que dispõe do serviço em frequência baixa em relação aos que não dispõe de forma alguma."
      ],
      "metadata": {
        "id": "nGejJ0txq0M9"
      }
    },
    {
      "cell_type": "code",
      "source": [
        "# Análise da relação Nota de Matemática x Empregada doméstica\n",
        "var7 = 'Q007'\n",
        "A = 'Não'\n",
        "B = 'Sim, um ou dois dias por semana'\n",
        "C = 'Sim, três ou quatro dias por semana'\n",
        "D = 'Sim, pelo menos cinco dias por semana'\n",
        "plotdata = pd.concat([csv_enem[notamt], csv_enem[var7].map({'A': A, 'B': B, 'C': C, 'D': D})], axis=1)\n",
        "f, ax = plt.subplots(figsize=(14, 6))\n",
        "fig = sns.barplot(x=var7, y=csv_enem[notamt], data=plotdata, order=[A, B, C, D], ci='sd', color='salmon', saturation=.5)\n",
        "fig.axis(ymin=320);\n",
        "ax.set_xticklabels(ax.get_xticklabels(),rotation=70)\n",
        "fig.set_title(\"Em sua residência trabalha empregado(a) doméstico(a)?\", fontsize=15)\n",
        "fig.set_xlabel(\"Frequência do empregado(a) doméstico(a)\", fontsize=13)\n",
        "fig.set_ylabel(\"Nota de Matemática\", fontsize=13)"
      ],
      "metadata": {
        "colab": {
          "base_uri": "https://localhost:8080/",
          "height": 607
        },
        "id": "9sy_U-aMq05c",
        "outputId": "702cedd1-509c-49b5-d8a8-ae9c558095ff"
      },
      "execution_count": null,
      "outputs": [
        {
          "output_type": "execute_result",
          "data": {
            "text/plain": [
              "Text(0, 0.5, 'Nota de Matemática')"
            ]
          },
          "metadata": {},
          "execution_count": 23
        },
        {
          "output_type": "display_data",
          "data": {
            "text/plain": [
              "<Figure size 1008x432 with 1 Axes>"
            ],
            "image/png": "[encoded data removed]"
          },
          "metadata": {
            "needs_background": "light"
          }
        }
      ]
    },
    {
      "cell_type": "markdown",
      "source": [
        "**1.8 - Quantidade de carros vs Nota Matemática**\n",
        "\n",
        "Do gráfico abaixo podemos perceber que há uma relação direta entre a nota e a quantidade de carros que o aluno dispõe em sua residência. \n",
        "\n",
        "Essa feature pode ser importante considerando que alunos sem carro tendem a ter maiores dificuldades de deslocamento e podem ter sua frequência nas aulas reduzida."
      ],
      "metadata": {
        "id": "aPxjcoIS3_3Y"
      }
    },
    {
      "cell_type": "code",
      "source": [
        "# Análise da relação Nota de Matemática x Quantidade de carros\n",
        "var8 = 'Q010'\n",
        "A = 'Não'\n",
        "B = 'Sim, 1'\n",
        "C = 'Sim, 2'\n",
        "D = 'Sim, 3'\n",
        "E = 'Sim, 4 ou mais'\n",
        "plotdata = pd.concat([csv_enem[notamt], csv_enem[var8].map({'A': A, 'B': B, 'C': C, 'D': D, 'E': E})], axis=1)\n",
        "f, ax = plt.subplots(figsize=(14, 6))\n",
        "fig = sns.barplot(x=var8, y=csv_enem[notamt], data=plotdata, order=[A, B, C, D, E], ci='sd', color='salmon', saturation=.5)\n",
        "fig.axis(ymin=320);\n",
        "ax.set_xticklabels(ax.get_xticklabels(),rotation=0)\n",
        "fig.set_title(\"Na sua residência tem carro?\", fontsize=15)\n",
        "fig.set_xlabel(\"Se há carro na residência\", fontsize=13)\n",
        "fig.set_ylabel(\"Nota de Matemática\", fontsize=13)"
      ],
      "metadata": {
        "colab": {
          "base_uri": "https://localhost:8080/",
          "height": 427
        },
        "id": "8zFgXCOL4FP5",
        "outputId": "631276cf-3e27-4151-ba28-1f351e1e1bed"
      },
      "execution_count": null,
      "outputs": [
        {
          "output_type": "execute_result",
          "data": {
            "text/plain": [
              "Text(0, 0.5, 'Nota de Matemática')"
            ]
          },
          "metadata": {},
          "execution_count": 24
        },
        {
          "output_type": "display_data",
          "data": {
            "text/plain": [
              "<Figure size 1008x432 with 1 Axes>"
            ],
            "image/png": "[encoded data removed]"
          },
          "metadata": {
            "needs_background": "light"
          }
        }
      ]
    },
    {
      "cell_type": "markdown",
      "source": [
        "**1.9 - Computador em casa vs Nota Matemática**\n",
        "\n",
        "Do gráfico abaixo podemos perceber que há uma relação direta entre a nota e a quantidade de computadores que o aluno dispõe em sua residência. \n",
        "\n",
        "Essa feature foi considerada em detrimento da feature de acesso à internet, uma vez que o IBGE diz que 81% das pessoas acima de 10 anos tem acesso internet. Esse dado foi confirmado nesse questionário, conforme cálculo abaixo."
      ],
      "metadata": {
        "id": "L0i0LnsIBLo0"
      }
    },
    {
      "cell_type": "code",
      "source": [
        "internetaccess = csv_enem['Q025'].value_counts() \n",
        "print(internetaccess)\n",
        "print('Somente', round(394472/(2106432+394472)*100, 2), '% dos alunos declararam não ter acesso à internet em casa.')"
      ],
      "metadata": {
        "colab": {
          "base_uri": "https://localhost:8080/"
        },
        "id": "KaN4E7z2Dv2G",
        "outputId": "c53bdff2-488c-460b-d774-c05170f3e865"
      },
      "execution_count": null,
      "outputs": [
        {
          "output_type": "stream",
          "name": "stdout",
          "text": [
            "B    2106432\n",
            "A     394472\n",
            "Name: Q025, dtype: int64\n",
            "Somente 15.77 % dos alunos declararam não ter acesso à internet em casa.\n"
          ]
        }
      ]
    },
    {
      "cell_type": "code",
      "source": [
        "# Análise da relação Nota de Matemática x Computador em casa\n",
        "var9 = 'Q024'\n",
        "A = 'Não'\n",
        "B = 'Sim, 1'\n",
        "C = 'Sim, 2'\n",
        "D = 'Sim, 3'\n",
        "E = 'Sim, 4 ou mais'\n",
        "plotdata = pd.concat([csv_enem[notamt], csv_enem[var9].map({'A': A, 'B': B, 'C': C, 'D': D, 'E': E})], axis=1)\n",
        "f, ax = plt.subplots(figsize=(14, 6))\n",
        "fig = sns.barplot(x=var9, y=csv_enem[notamt], data=plotdata, order=[A, B, C, D, E], ci='sd', color='salmon', saturation=.5)\n",
        "fig.axis(ymin=320);\n",
        "ax.set_xticklabels(ax.get_xticklabels(),rotation=0)\n",
        "fig.set_title(\"Na sua residência tem computador?\", fontsize=15)\n",
        "fig.set_xlabel(\"Se há computador na residência\", fontsize=13)\n",
        "fig.set_ylabel(\"Nota de Matemática\", fontsize=13)"
      ],
      "metadata": {
        "colab": {
          "base_uri": "https://localhost:8080/",
          "height": 427
        },
        "id": "IZ65R0AIBVv5",
        "outputId": "91096a07-27da-4b29-aa75-7554cf1a7f07"
      },
      "execution_count": null,
      "outputs": [
        {
          "output_type": "execute_result",
          "data": {
            "text/plain": [
              "Text(0, 0.5, 'Nota de Matemática')"
            ]
          },
          "metadata": {},
          "execution_count": 26
        },
        {
          "output_type": "display_data",
          "data": {
            "text/plain": [
              "<Figure size 1008x432 with 1 Axes>"
            ],
            "image/png": "[encoded data removed]"
          },
          "metadata": {
            "needs_background": "light"
          }
        }
      ]
    },
    {
      "cell_type": "markdown",
      "source": [
        "**1.10 - Sexo vs Nota Matemática**\n",
        "\n",
        "Do gráfico abaixo podemos perceber que há diferença de notas entre mulheres e homens na prova de matemática. Uma análise interessante a ser feita é se esse padrão de diferença de notas se confirma em outras matérias, o que poderia jogar uma luz quanto a uma questão amplamente discutida sobre o incentivo às mulheres para lidar com matérias relacionadas às áreas de exatas."
      ],
      "metadata": {
        "id": "9EjwkpZeHsQX"
      }
    },
    {
      "cell_type": "code",
      "source": [
        "# Análise da relação Nota de Matemática x Sexo do candidato\n",
        "var10 = 'TP_SEXO'\n",
        "M = 'Masculino'\n",
        "F = 'Feminino'\n",
        "plotdata = pd.concat([csv_enem[notamt], csv_enem[var10].map({'M': M, 'F': F})], axis=1)\n",
        "f, ax = plt.subplots(figsize=(14, 6))\n",
        "fig = sns.barplot(x=var10, y=csv_enem[notamt], data=plotdata, order=[F, M], ci='sd', color='salmon', saturation=.5)\n",
        "fig.axis(ymin=320);\n",
        "ax.set_xticklabels(ax.get_xticklabels(),rotation=0)\n",
        "fig.set_title(\"Sexo\", fontsize=15)\n",
        "fig.set_xlabel(\"Sexo\", fontsize=13)\n",
        "fig.set_ylabel(\"Nota de Matemática\", fontsize=13)"
      ],
      "metadata": {
        "colab": {
          "base_uri": "https://localhost:8080/",
          "height": 427
        },
        "id": "pncjt9GMHxrU",
        "outputId": "418f41c5-69af-40e5-e4dc-512f3789b63d"
      },
      "execution_count": null,
      "outputs": [
        {
          "output_type": "execute_result",
          "data": {
            "text/plain": [
              "Text(0, 0.5, 'Nota de Matemática')"
            ]
          },
          "metadata": {},
          "execution_count": 28
        },
        {
          "output_type": "display_data",
          "data": {
            "text/plain": [
              "<Figure size 1008x432 with 1 Axes>"
            ],
            "image/png": "[encoded data removed]"
          },
          "metadata": {
            "needs_background": "light"
          }
        }
      ]
    },
    {
      "cell_type": "markdown",
      "source": [
        "**1.11 - Raça vs Nota Matemática**\n",
        "\n",
        "Do gráfico abaixo podemos perceber que há diferença de notas entre raças, sendo as preta e indígena as que apresentaram as menores notas.\n",
        "\n",
        "Essa feature apresenta problema de Missing values, uma vez que deu opção ao aluno optar pela opção 'Não declarado'. Missing Values serão tratados mais a frente e caso impossibilitem o uso dessa feature, essa deverá ser descartada.\n",
        "\n",
        "A apresentação das ordens de média de nota por raça foram reordenadas para ficar visualmente clara a diferença de notas por raça. "
      ],
      "metadata": {
        "id": "HgrvRpCqJYE8"
      }
    },
    {
      "cell_type": "code",
      "source": [
        "# Análise da relação Nota de Matemática x Sexo do candidato\n",
        "var11 = 'TP_COR_RACA'\n",
        "A = 'Não declarado'\n",
        "B = 'Branca'\n",
        "C = 'Preta'\n",
        "D = 'Parda'\n",
        "E = 'Amarela'\n",
        "F = 'Indígena'\n",
        "plotdata = pd.concat([csv_enem[notamt], csv_enem[var11].map({0: A, 1: B, 2: C, 3: D, 4: E, 5: F})], axis=1)\n",
        "f, ax = plt.subplots(figsize=(14, 6))\n",
        "fig = sns.barplot(x=var11, y=csv_enem[notamt], data=plotdata, order=[F, C, D, E, B, A], ci='sd', color='salmon', saturation=.5)\n",
        "fig.axis(ymin=320);\n",
        "ax.set_xticklabels(ax.get_xticklabels(),rotation=0)\n",
        "fig.set_title(\"Sexo\", fontsize=15)\n",
        "fig.set_xlabel(\"Sexo\", fontsize=13)\n",
        "fig.set_ylabel(\"Nota de Matemática\", fontsize=13)"
      ],
      "metadata": {
        "colab": {
          "base_uri": "https://localhost:8080/",
          "height": 427
        },
        "id": "_n3BImO2Jcrx",
        "outputId": "1d03ac60-6151-485b-ceeb-6d0e701d7ab6"
      },
      "execution_count": null,
      "outputs": [
        {
          "output_type": "execute_result",
          "data": {
            "text/plain": [
              "Text(0, 0.5, 'Nota de Matemática')"
            ]
          },
          "metadata": {},
          "execution_count": 29
        },
        {
          "output_type": "display_data",
          "data": {
            "text/plain": [
              "<Figure size 1008x432 with 1 Axes>"
            ],
            "image/png": "[encoded data removed]"
          },
          "metadata": {
            "needs_background": "light"
          }
        }
      ]
    },
    {
      "cell_type": "markdown",
      "source": [
        "**1.12 - Tipo de escola vs Nota Matemática**\n",
        "\n",
        "Nessa feature estamos tentando verificar se o aluno é oriundo de Escola pública ou particular. Como há a opção ao aluno de não responder, verificamos que há uma outra questão em relação à dependência administrativa da escola, de modo que no tratamento das missing values podemos usar uma pergunta para responder outra, uma vez que consideramos ser informação crítica se o aluno é oriundo da rede pública ou privada."
      ],
      "metadata": {
        "id": "LR3d2UBTMRf7"
      }
    },
    {
      "cell_type": "code",
      "source": [
        "# Análise da relação Nota de Matemática x Tipo de Escola do Ensino Médio\n",
        "var12_1 = 'TP_ESCOLA'\n",
        "A = 'Não respondeu'\n",
        "B = 'Pública'\n",
        "C = 'Privada'\n",
        "D = 'Exterior'\n",
        "\n",
        "plotdata = pd.concat([csv_enem[notamt], csv_enem[var12_1].map({1: A, 2: B, 3: C, 4: D})], axis=1)\n",
        "f, ax = plt.subplots(figsize=(14, 6))\n",
        "fig = sns.barplot(x=var12_1, y=csv_enem[notamt], data=plotdata, order=[A, B, C, D], ci='sd', color='salmon', saturation=.5)\n",
        "fig.axis(ymin=320);\n",
        "ax.set_xticklabels(ax.get_xticklabels(),rotation=0)\n",
        "fig.set_title(\"Tipo de Escola do Ensino Médio\", fontsize=15)\n",
        "fig.set_xlabel(\"Tipo de Escola do Ensino Médio\", fontsize=13)\n",
        "fig.set_ylabel(\"Nota de Matemática\", fontsize=13)"
      ],
      "metadata": {
        "colab": {
          "base_uri": "https://localhost:8080/",
          "height": 427
        },
        "id": "TT2WZ6yvMZOj",
        "outputId": "772eebd2-81c1-4b5e-997a-b80cd04e32ae"
      },
      "execution_count": null,
      "outputs": [
        {
          "output_type": "execute_result",
          "data": {
            "text/plain": [
              "Text(0, 0.5, 'Nota de Matemática')"
            ]
          },
          "metadata": {},
          "execution_count": 30
        },
        {
          "output_type": "display_data",
          "data": {
            "text/plain": [
              "<Figure size 1008x432 with 1 Axes>"
            ],
            "image/png": "[encoded data removed]"
          },
          "metadata": {
            "needs_background": "light"
          }
        }
      ]
    },
    {
      "cell_type": "code",
      "source": [
        "kindschool = csv_enem['TP_ESCOLA'].value_counts() \n",
        "print(kindschool)\n",
        "csv_enem['TP_ESCOLA'].isnull().values.sum()\n",
        "print('Nós temos', kindschool[1], 'missing values no atributo que define o tipo de escola de conclusão do ensino médio.')"
      ],
      "metadata": {
        "colab": {
          "base_uri": "https://localhost:8080/"
        },
        "id": "D_ZXztXEq2CP",
        "outputId": "2c9b8ca6-ab22-4a6c-e07e-f2a5d11f0e39"
      },
      "execution_count": null,
      "outputs": [
        {
          "output_type": "stream",
          "name": "stdout",
          "text": [
            "1    1733888\n",
            "2     631189\n",
            "3     162317\n",
            "Name: TP_ESCOLA, dtype: int64\n",
            "Nós temos 1733888 missing values no atributo que define o tipo de escola de conclusão do ensino médio.\n"
          ]
        }
      ]
    },
    {
      "cell_type": "code",
      "source": [
        "# Análise da relação Nota de Matemática x Dependência administrativa da escola\n",
        "var12_2 = 'TP_DEPENDENCIA_ADM_ESC'\n",
        "A = 'Federal'\n",
        "B = 'Estadual'\n",
        "C = 'Municipal'\n",
        "D = 'Privada'\n",
        "\n",
        "plotdata = pd.concat([csv_enem[notamt], csv_enem[var12_2].map({1: A, 2: B, 3: C, 4: D})], axis=1)\n",
        "f, ax = plt.subplots(figsize=(14, 6))\n",
        "fig = sns.barplot(x=var12_2, y=csv_enem[notamt], data=plotdata, order=[A, B, C, D], ci='sd', color='salmon', saturation=.5)\n",
        "fig.axis(ymin=320);\n",
        "ax.set_xticklabels(ax.get_xticklabels(),rotation=0)\n",
        "fig.set_title(\"Dependência administrativa da escola\", fontsize=15)\n",
        "fig.set_xlabel(\"Dependência administrativa da escola\", fontsize=13)\n",
        "fig.set_ylabel(\"Nota de Matemática\", fontsize=13)"
      ],
      "metadata": {
        "colab": {
          "base_uri": "https://localhost:8080/",
          "height": 427
        },
        "id": "mg37JtWJlxvI",
        "outputId": "b0dcc5d7-f316-4ba0-f890-8e72b45902b3"
      },
      "execution_count": null,
      "outputs": [
        {
          "output_type": "execute_result",
          "data": {
            "text/plain": [
              "Text(0, 0.5, 'Nota de Matemática')"
            ]
          },
          "metadata": {},
          "execution_count": 32
        },
        {
          "output_type": "display_data",
          "data": {
            "text/plain": [
              "<Figure size 1008x432 with 1 Axes>"
            ],
            "image/png": "[encoded data removed]"
          },
          "metadata": {
            "needs_background": "light"
          }
        }
      ]
    },
    {
      "cell_type": "code",
      "source": [
        "kindschool_2 = csv_enem['TP_DEPENDENCIA_ADM_ESC'].value_counts() \n",
        "print(kindschool_2)\n",
        "print('Nós temos', csv_enem['TP_DEPENDENCIA_ADM_ESC'].isnull().values.sum(), 'missing values no atributo que define a dependência administrativa da escola.')"
      ],
      "metadata": {
        "colab": {
          "base_uri": "https://localhost:8080/"
        },
        "id": "SOldvmZ4svKK",
        "outputId": "a197634b-4207-4b93-ea40-be43f94bc0ef"
      },
      "execution_count": null,
      "outputs": [
        {
          "output_type": "stream",
          "name": "stdout",
          "text": [
            "2.0    308368\n",
            "4.0    175431\n",
            "1.0     37579\n",
            "3.0      4043\n",
            "Name: TP_DEPENDENCIA_ADM_ESC, dtype: int64\n",
            "Nós temos 2001973 missing values no atributo que define a dependência administrativa da escola.\n"
          ]
        }
      ]
    },
    {
      "cell_type": "markdown",
      "source": [
        "**1.13 - Localização da Escola vs Nota Matemática**\n",
        "\n",
        "Aqui tentaremos verificar se a localização da escola influencia na nota. Essa informação é importante pois, constitucionalmente, a responsabilidade da educação de Ensino Médio é do Estado. Caso sejam encontradas diferenças significativas de resultado entre Estados, encontramos diferenças de gestão do Executivo Estadual.\n",
        "\n",
        "Na análise foi verificado que a seção \"Dados da Escola\" do questionário não foi preenchida por uma parte considerável dos alunos, nesse sentido, vamos usar os dados do Estado de residência do estudante, uma vez que todos alunos responderam a essa pergunta.\n",
        "\n",
        "Caso na análise de Missing Values os dados não preenchidos sejam excluídos, valerá a pena se considerar a variável da escola de formação do Ensino Médio e não o de residência do estudante.\n"
      ],
      "metadata": {
        "id": "wjZ234w8uKvg"
      }
    },
    {
      "cell_type": "code",
      "source": [
        "localizationschool = csv_enem['CO_UF_ESC'].value_counts() \n",
        "print(localizationschool)\n",
        "print('Nós temos', csv_enem['CO_UF_ESC'].isnull().values.sum(), 'missing values no atributo que define a localização da escola.')"
      ],
      "metadata": {
        "colab": {
          "base_uri": "https://localhost:8080/"
        },
        "id": "7AuIegfdvkCU",
        "outputId": "701c146d-d7b9-48bc-9d80-78b4cdf300ac"
      },
      "execution_count": null,
      "outputs": [
        {
          "output_type": "stream",
          "name": "stdout",
          "text": [
            "35.0    97083\n",
            "23.0    49546\n",
            "31.0    46320\n",
            "33.0    39820\n",
            "29.0    31112\n",
            "26.0    26787\n",
            "41.0    26510\n",
            "43.0    22745\n",
            "15.0    20482\n",
            "52.0    19549\n",
            "21.0    15551\n",
            "42.0    15387\n",
            "53.0    14104\n",
            "25.0    13348\n",
            "32.0    11850\n",
            "22.0    10598\n",
            "24.0    10362\n",
            "13.0    10318\n",
            "27.0     8561\n",
            "51.0     8480\n",
            "50.0     6798\n",
            "28.0     6469\n",
            "11.0     4087\n",
            "17.0     3926\n",
            "12.0     2321\n",
            "16.0     2064\n",
            "14.0     1243\n",
            "Name: CO_UF_ESC, dtype: int64\n",
            "Nós temos 2001973 missing values no atributo que define a localização da escola.\n"
          ]
        }
      ]
    },
    {
      "cell_type": "code",
      "source": [
        "# Análise da relação Nota de Matemática x Estado da escola onde concluiu o Ensino Médio \n",
        "var13_1 = 'CO_UF_ESC'\n",
        "A = 'AC'\n",
        "B = 'AL'\n",
        "C = 'AP'\n",
        "D = 'AM'\n",
        "E = 'BA'\n",
        "F = 'CE'\n",
        "G = 'DF'\n",
        "H = 'ES'\n",
        "I = 'GO'\n",
        "J = 'MA'\n",
        "K = 'MT'\n",
        "L = 'MS'\n",
        "M = 'MG'\n",
        "N = 'PA'\n",
        "O = 'PB'\n",
        "P = 'PR'\n",
        "Q = 'PE'\n",
        "R = 'PI'\n",
        "S = 'RJ'\n",
        "T = 'RN'\n",
        "U = 'RS'\n",
        "V = 'RO'\n",
        "W = 'RR'\n",
        "X = 'SC'\n",
        "Y = 'SP'\n",
        "Z = 'SE'\n",
        "AA = 'TO'\n",
        "\n",
        "plotdata = pd.concat([csv_enem[notamt], csv_enem[var13_1].map({12: A, 27: B, 16: C, 13:D, 29: E, 23: F, 53: G, 32: H, 52: I, 21: J, 51: K, 50: L, 31: M, 15: N, 25: O, 41: P, 26: Q, 22: R, 33: S, 24: T, 43: U, 11: V, 14: W, 42: X, 35: Y, 28: Z, 17: AA})], axis=1)\n",
        "f, ax = plt.subplots(figsize=(14, 6))\n",
        "fig = sns.barplot(x=var13_1, y=csv_enem[notamt], data=plotdata, order=[A, B, C, D, E ,F ,G , H, I,J, K, L, M, N, O, P, Q, R, S, T, U, V, W, X, Y, Z, AA], ci='sd', color='salmon', saturation=.5)\n",
        "fig.axis(ymin=320);\n",
        "ax.set_xticklabels(ax.get_xticklabels(),rotation=0)\n",
        "fig.set_title(\"Estado da escola do Ensino Médio\", fontsize=15)\n",
        "fig.set_xlabel(\"Estado da Escola\", fontsize=13)\n",
        "fig.set_ylabel(\"Nota de Matemática\", fontsize=13)"
      ],
      "metadata": {
        "colab": {
          "base_uri": "https://localhost:8080/",
          "height": 427
        },
        "id": "aQOyuj4UzhWe",
        "outputId": "c672e09e-7b2a-4c96-e5f6-2db31d8ebf7c"
      },
      "execution_count": null,
      "outputs": [
        {
          "output_type": "execute_result",
          "data": {
            "text/plain": [
              "Text(0, 0.5, 'Nota de Matemática')"
            ]
          },
          "metadata": {},
          "execution_count": 35
        },
        {
          "output_type": "display_data",
          "data": {
            "text/plain": [
              "<Figure size 1008x432 with 1 Axes>"
            ],
            "image/png": "[encoded data removed]"
          },
          "metadata": {
            "needs_background": "light"
          }
        }
      ]
    },
    {
      "cell_type": "markdown",
      "source": [
        "**2 - Tratamento de dados**\n",
        "--\n",
        "\n",
        "A partir de agora vamos analisar a adequabilidade do banco de dados para nossa análise e fazer correções onde se fizer necessário."
      ],
      "metadata": {
        "id": "gt_sa0y21Q4p"
      }
    },
    {
      "cell_type": "markdown",
      "source": [
        "**2.1 - Missing Data**\n",
        "\n",
        "A partir daqui verificaremos quais atributos estão sem dados e como cada situação será tratada."
      ],
      "metadata": {
        "id": "pJ1-WRHU1ng5"
      }
    },
    {
      "cell_type": "code",
      "source": [
        "cols_candidatos = ['NU_INSCRICAO', 'NU_NOTA_MT', 'Q001', 'Q002', 'Q003', 'Q004','Q005', 'Q006', 'Q007', 'Q010', 'Q024', 'TP_SEXO', 'TP_COR_RACA', 'TP_ESCOLA', 'TP_DEPENDENCIA_ADM_ESC', 'CO_UF_ESC']\n",
        "\n",
        "#missing data\n",
        "model_data = csv_enem[cols_candidatos]\n",
        "\n",
        "total = model_data.isnull().sum().sort_values(ascending=False)\n",
        "print('missing data:\\n', total)"
      ],
      "metadata": {
        "colab": {
          "base_uri": "https://localhost:8080/"
        },
        "id": "CTXabIz919Gm",
        "outputId": "bb918e79-0cbd-4845-8df4-8a6ff2f90b86"
      },
      "execution_count": null,
      "outputs": [
        {
          "output_type": "stream",
          "name": "stdout",
          "text": [
            "missing data:\n",
            " TP_DEPENDENCIA_ADM_ESC    2001973\n",
            "CO_UF_ESC                 2001973\n",
            "Q001                        26490\n",
            "Q002                        26490\n",
            "Q003                        26490\n",
            "Q004                        26490\n",
            "Q005                        26490\n",
            "Q006                        26490\n",
            "Q007                        26490\n",
            "Q010                        26490\n",
            "Q024                        26490\n",
            "NU_INSCRICAO                    0\n",
            "NU_NOTA_MT                      0\n",
            "TP_SEXO                         0\n",
            "TP_COR_RACA                     0\n",
            "TP_ESCOLA                       0\n",
            "dtype: int64\n"
          ]
        }
      ]
    },
    {
      "cell_type": "markdown",
      "source": [
        "A variável que trata em qual Unidade da Federação pertence a escola na qual o aluno cursou o Ensino Médio apresenta problema grave de missing values e será excluída, será então considerada a variável que diz sobre a residência do estudante, dessa forma, acredito que podemos manter a análise geográfica do rendimento sem o prejuízo de usar outros métodos para completar os dados."
      ],
      "metadata": {
        "id": "eo35H43Bblit"
      }
    },
    {
      "cell_type": "code",
      "source": [
        "situationstudent = csv_enem['TP_ST_CONCLUSAO'].value_counts() \n",
        "print(situationstudent)\n",
        "print('Nós temos', csv_enem['TP_ST_CONCLUSAO'].isnull().values.sum(), 'missing values no atributo que define a residência do aluno.')"
      ],
      "metadata": {
        "colab": {
          "base_uri": "https://localhost:8080/"
        },
        "id": "nplMXN1WrIp0",
        "outputId": "65ffaa43-8110-42a8-c42e-a004e0de23c7"
      },
      "execution_count": null,
      "outputs": [
        {
          "output_type": "stream",
          "name": "stdout",
          "text": [
            "1    1391768\n",
            "2     793506\n",
            "3     335658\n",
            "4       6462\n",
            "Name: TP_ST_CONCLUSAO, dtype: int64\n",
            "Nós temos 0 missing values no atributo que define a residência do aluno.\n"
          ]
        }
      ]
    },
    {
      "cell_type": "markdown",
      "source": [
        "Agora iremos reduzir nas questões de 1 a 4 os Missing Values em decorrência da resposta \"Não sei\". Iremos considerar o maior grau de escolaridade entre pai e mãe e o maior nível de emprego entre estes. Essa medida atende a candidatos que são órfãos de pai e/ou mãe e que naturalmente responderiam \"Não sei\" a este questionamento. É pouco razoável supor que respostas \"Não sei\" para pai e mãe, para quem tenha pelo um dos dois, se deva ao fato do candidato não saber a profissão dos pais.  "
      ],
      "metadata": {
        "id": "WuLxQDp7I-5G"
      }
    },
    {
      "cell_type": "code",
      "source": [
        "total = len(model_data.index)\n",
        "\n",
        "#str(round(percent,1)) +'%'\n",
        "\n",
        "r1 = model_data[(model_data['Q002'] == 'H') & (model_data['Q001'] == 'H')]['Q002'].count()\n",
        "r1_percent = ' ('+str(round(r1*100/total,1))+'%)'\n",
        "print('respondentes que não sabem a escolaridade da mãe nem do pai: '+ str(r1)+r1_percent)\n",
        "\n",
        "r0 = model_data[(model_data['Q002'] == 'H') | (model_data['Q001'] == 'H')]['Q002'].count() - 2*r1\n",
        "r0_percent = ' ('+str(round(r0*100/total,1))+'%)'\n",
        "print('respondentes que não sabem a escolaridade da mãe mas sabem do pai, ou vice versa: '+str(r0)+r0_percent)\n",
        "\n",
        "r2 = model_data[(model_data['Q004'] == 'F') & (model_data['Q003'] == 'F')]['Q002'].count()\n",
        "r2_percent = ' ('+str(round(r2*100/total,1))+'%)'\n",
        "print('\\nrespondentes que não sabem a ocupação da mãe nem do pai: '+ str(r2)+r2_percent)\n",
        "\n",
        "#r3 = model_data[((model_data['Q002'] == 'H') & (data['Q001'] == 'H') & (model_data['Q004'] == 'F') & (data['Q003'] == 'F'))]['Q002'].count()\n",
        "#print('\\nunião entre os grupos acima: ', r1+r2-r3)\n",
        "\n",
        "r4 = model_data[(model_data['TP_COR_RACA'] == 0)]['Q002'].count()\n",
        "r4_percent = ' ('+str(round(r4*100/total,1))+'%)'\n",
        "print('\\nrespondentes que não declararam raça: '+ str(r4)+r4_percent)"
      ],
      "metadata": {
        "colab": {
          "base_uri": "https://localhost:8080/"
        },
        "id": "_yWQMpnAJ1TJ",
        "outputId": "5582fb83-fd3c-45ed-ce7d-84c2890e8188"
      },
      "execution_count": null,
      "outputs": [
        {
          "output_type": "stream",
          "name": "stdout",
          "text": [
            "respondentes que não sabem a escolaridade da mãe nem do pai: 35675 (1.4%)\n",
            "respondentes que não sabem a escolaridade da mãe mas sabem do pai, ou vice versa: 139519 (5.5%)\n",
            "\n",
            "respondentes que não sabem a ocupação da mãe nem do pai: 67945 (2.7%)\n",
            "\n",
            "respondentes que não declararam raça: 47888 (1.9%)\n"
          ]
        }
      ]
    },
    {
      "cell_type": "markdown",
      "source": [
        "Agora iremos eliminar os candidatos que não sabem a escolaridade do pai e da mãe, o que representa 1,8% do nosso banco.\n",
        "Iremos ainda excluir os dados de profissão do pai e da mãe, por acreditarmos ser um fator diretamente relacionado a renda."
      ],
      "metadata": {
        "id": "8ICDJm4ukToU"
      }
    },
    {
      "cell_type": "code",
      "source": [
        "#Eliminando candidatos que nao sabem a escolaridade do pai nem da mae\n",
        "\n",
        "model_data2 = model_data[(model_data['Q002'] != 'H') | (model_data['Q001'] != 'H')]\n",
        "print('Meu banco de dados agora tem', len(cols), 'colunas e', len(model_data2.index), 'linhas.' )\n",
        "\n",
        "# Agora eliminamos as colunas da ocupação profissional dos pais e do tipo de escola.\n",
        "\n",
        "cols = ['NU_INSCRICAO', 'NU_NOTA_MT', 'Q001', 'Q002','Q005', 'Q006', 'Q007', 'Q010', 'Q024', 'TP_SEXO', 'TP_COR_RACA', 'TP_ESCOLA', 'TP_DEPENDENCIA_ADM_ESC', 'CO_UF_ESC']\n",
        "\n",
        "model_data3 = model_data2[cols]"
      ],
      "metadata": {
        "colab": {
          "base_uri": "https://localhost:8080/"
        },
        "id": "5BFlaoJoknLJ",
        "outputId": "d7f52956-2a66-4fc4-9270-a735db77e650"
      },
      "execution_count": null,
      "outputs": [
        {
          "output_type": "stream",
          "name": "stdout",
          "text": [
            "Meu banco de dados agora tem 15 colunas e 2491719 linhas.\n"
          ]
        }
      ]
    },
    {
      "cell_type": "markdown",
      "source": [
        "Agora vamos fazer a coluna que tem a maior escolaridade de pai e mãe."
      ],
      "metadata": {
        "id": "Iack1Q4dxi3M"
      }
    },
    {
      "cell_type": "code",
      "source": [
        "model_data3_labels = model_data3.copy()\n",
        "\n",
        "#feature eng 1: max_escol\n",
        "#primeiro vamos mapear os níveis de escolaridade A, ..., G, H em números. Como H = \"não sei\", colocaremos como -1\n",
        "model_data3_labels['Q001'] = model_data3_labels['Q001'].map({'A': 0, 'B': 1, 'C': 2, 'D': 3, 'E': 4, 'F': 5, 'G': 6, 'H':-1})\n",
        "model_data3_labels['Q002'] = model_data3_labels['Q002'].map({'A': 0, 'B': 1, 'C': 2, 'D': 3, 'E': 4, 'F': 5, 'G': 6, 'H':-1})\n",
        "#agora vamos criar uma coluna que é a maior escolaridade entre pai e mae\n",
        "model_data3_labels['max_escol'] = model_data3_labels[['Q001', 'Q002']].max(axis=1)\n",
        "#e jogar fora as duas colunas originais de escolaridade do pai e da mãe\n",
        "model_data3_labels.drop(['Q001', 'Q002', 'TP_ESCOLA', 'TP_DEPENDENCIA_ADM_ESC', 'CO_UF_ESC'], axis=1, inplace=True)\n",
        "\n",
        "model_data3_labels['TP_SEXO'] = model_data3_labels['TP_SEXO'].map({'M': 0, 'F': 1})\n",
        "\n",
        "model_data3_labels['Q006'] = model_data3_labels['Q006'].map({'A': 0, 'B': 1, 'C': 2, 'D': 3, 'E': 4, 'F': 5, 'G': 6, 'H':7, 'I': 8, 'J': 9, 'K': 10, 'L': 11, 'M': 12, 'N': 13, 'O': 14, 'P': 15, 'Q': 16})\n",
        "\n",
        "model_data3_labels['Q007'] = model_data3_labels['Q007'].map({'A': 0, 'B': 1, 'C': 2, 'D': 3})\n",
        "\n",
        "model_data3_labels['Q010'] = model_data3_labels['Q010'].map({'A': 0, 'B': 1, 'C': 2, 'D': 3, 'E': 4})\n",
        "\n",
        "model_data3_labels['Q024'] = model_data3_labels['Q024'].map({'A': 0, 'B': 1, 'C': 2, 'D': 3, 'E': 4})\n",
        "\n",
        "\n",
        "model_data3_labels.head()"
      ],
      "metadata": {
        "colab": {
          "base_uri": "https://localhost:8080/",
          "height": 206
        },
        "id": "yte9fcruxiAt",
        "outputId": "53583bbf-b086-44e3-f773-ae9bf315b271"
      },
      "execution_count": null,
      "outputs": [
        {
          "output_type": "execute_result",
          "data": {
            "text/plain": [
              "   NU_INSCRICAO  NU_NOTA_MT  Q005  Q006  Q007  Q010  Q024  TP_SEXO  \\\n",
              "1  200001195856       711.3   NaN   NaN   NaN   NaN   NaN        0   \n",
              "3  200001908998       759.4   NaN   NaN   NaN   NaN   NaN        0   \n",
              "5  200003132410       526.7   5.0   2.0   0.0   0.0   1.0        1   \n",
              "7  200001334237       753.2   NaN   NaN   NaN   NaN   NaN        0   \n",
              "8  200006762554       448.5   2.0   1.0   0.0   0.0   0.0        1   \n",
              "\n",
              "   TP_COR_RACA  max_escol  \n",
              "1            3        NaN  \n",
              "3            3        NaN  \n",
              "5            3        2.0  \n",
              "7            1        NaN  \n",
              "8            3        2.0  "
            ],
            "text/html": [
              "\n",
              "  <div id=\"df-e80ad32e-032d-4657-b9a4-3adb41387d0a\">\n",
              "    <div class=\"colab-df-container\">\n",
              "      <div>\n",
              "<style scoped>\n",
              "    .dataframe tbody tr th:only-of-type {\n",
              "        vertical-align: middle;\n",
              "    }\n",
              "\n",
              "    .dataframe tbody tr th {\n",
              "        vertical-align: top;\n",
              "    }\n",
              "\n",
              "    .dataframe thead th {\n",
              "        text-align: right;\n",
              "    }\n",
              "</style>\n",
              "<table border=\"1\" class=\"dataframe\">\n",
              "  <thead>\n",
              "    <tr style=\"text-align: right;\">\n",
              "      <th></th>\n",
              "      <th>NU_INSCRICAO</th>\n",
              "      <th>NU_NOTA_MT</th>\n",
              "      <th>Q005</th>\n",
              "      <th>Q006</th>\n",
              "      <th>Q007</th>\n",
              "      <th>Q010</th>\n",
              "      <th>Q024</th>\n",
              "      <th>TP_SEXO</th>\n",
              "      <th>TP_COR_RACA</th>\n",
              "      <th>max_escol</th>\n",
              "    </tr>\n",
              "  </thead>\n",
              "  <tbody>\n",
              "    <tr>\n",
              "      <th>1</th>\n",
              "      <td>200001195856</td>\n",
              "      <td>711.3</td>\n",
              "      <td>NaN</td>\n",
              "      <td>NaN</td>\n",
              "      <td>NaN</td>\n",
              "      <td>NaN</td>\n",
              "      <td>NaN</td>\n",
              "      <td>0</td>\n",
              "      <td>3</td>\n",
              "      <td>NaN</td>\n",
              "    </tr>\n",
              "    <tr>\n",
              "      <th>3</th>\n",
              "      <td>200001908998</td>\n",
              "      <td>759.4</td>\n",
              "      <td>NaN</td>\n",
              "      <td>NaN</td>\n",
              "      <td>NaN</td>\n",
              "      <td>NaN</td>\n",
              "      <td>NaN</td>\n",
              "      <td>0</td>\n",
              "      <td>3</td>\n",
              "      <td>NaN</td>\n",
              "    </tr>\n",
              "    <tr>\n",
              "      <th>5</th>\n",
              "      <td>200003132410</td>\n",
              "      <td>526.7</td>\n",
              "      <td>5.0</td>\n",
              "      <td>2.0</td>\n",
              "      <td>0.0</td>\n",
              "      <td>0.0</td>\n",
              "      <td>1.0</td>\n",
              "      <td>1</td>\n",
              "      <td>3</td>\n",
              "      <td>2.0</td>\n",
              "    </tr>\n",
              "    <tr>\n",
              "      <th>7</th>\n",
              "      <td>200001334237</td>\n",
              "      <td>753.2</td>\n",
              "      <td>NaN</td>\n",
              "      <td>NaN</td>\n",
              "      <td>NaN</td>\n",
              "      <td>NaN</td>\n",
              "      <td>NaN</td>\n",
              "      <td>0</td>\n",
              "      <td>1</td>\n",
              "      <td>NaN</td>\n",
              "    </tr>\n",
              "    <tr>\n",
              "      <th>8</th>\n",
              "      <td>200006762554</td>\n",
              "      <td>448.5</td>\n",
              "      <td>2.0</td>\n",
              "      <td>1.0</td>\n",
              "      <td>0.0</td>\n",
              "      <td>0.0</td>\n",
              "      <td>0.0</td>\n",
              "      <td>1</td>\n",
              "      <td>3</td>\n",
              "      <td>2.0</td>\n",
              "    </tr>\n",
              "  </tbody>\n",
              "</table>\n",
              "</div>\n",
              "      <button class=\"colab-df-convert\" onclick=\"convertToInteractive('df-e80ad32e-032d-4657-b9a4-3adb41387d0a')\"\n",
              "              title=\"Convert this dataframe to an interactive table.\"\n",
              "              style=\"display:none;\">\n",
              "        \n",
              "  <svg xmlns=\"http://www.w3.org/2000/svg\" height=\"24px\"viewBox=\"0 0 24 24\"\n",
              "       width=\"24px\">\n",
              "    <path d=\"M0 0h24v24H0V0z\" fill=\"none\"/>\n",
              "    <path d=\"M18.56 5.44l.94 2.06.94-2.06 2.06-.94-2.06-.94-.94-2.06-.94 2.06-2.06.94zm-11 1L8.5 8.5l.94-2.06 2.06-.94-2.06-.94L8.5 2.5l-.94 2.06-2.06.94zm10 10l.94 2.06.94-2.06 2.06-.94-2.06-.94-.94-2.06-.94 2.06-2.06.94z\"/><path d=\"M17.41 7.96l-1.37-1.37c-.4-.4-.92-.59-1.43-.59-.52 0-1.04.2-1.43.59L10.3 9.45l-7.72 7.72c-.78.78-.78 2.05 0 2.83L4 21.41c.39.39.9.59 1.41.59.51 0 1.02-.2 1.41-.59l7.78-7.78 2.81-2.81c.8-.78.8-2.07 0-2.86zM5.41 20L4 18.59l7.72-7.72 1.47 1.35L5.41 20z\"/>\n",
              "  </svg>\n",
              "      </button>\n",
              "      \n",
              "  <style>\n",
              "    .colab-df-container {\n",
              "      display:flex;\n",
              "      flex-wrap:wrap;\n",
              "      gap: 12px;\n",
              "    }\n",
              "\n",
              "    .colab-df-convert {\n",
              "      background-color: #E8F0FE;\n",
              "      border: none;\n",
              "      border-radius: 50%;\n",
              "      cursor: pointer;\n",
              "      display: none;\n",
              "      fill: #1967D2;\n",
              "      height: 32px;\n",
              "      padding: 0 0 0 0;\n",
              "      width: 32px;\n",
              "    }\n",
              "\n",
              "    .colab-df-convert:hover {\n",
              "      background-color: #E2EBFA;\n",
              "      box-shadow: 0px 1px 2px rgba(60, 64, 67, 0.3), 0px 1px 3px 1px rgba(60, 64, 67, 0.15);\n",
              "      fill: #174EA6;\n",
              "    }\n",
              "\n",
              "    [theme=dark] .colab-df-convert {\n",
              "      background-color: #3B4455;\n",
              "      fill: #D2E3FC;\n",
              "    }\n",
              "\n",
              "    [theme=dark] .colab-df-convert:hover {\n",
              "      background-color: #434B5C;\n",
              "      box-shadow: 0px 1px 3px 1px rgba(0, 0, 0, 0.15);\n",
              "      filter: drop-shadow(0px 1px 2px rgba(0, 0, 0, 0.3));\n",
              "      fill: #FFFFFF;\n",
              "    }\n",
              "  </style>\n",
              "\n",
              "      <script>\n",
              "        const buttonEl =\n",
              "          document.querySelector('#df-e80ad32e-032d-4657-b9a4-3adb41387d0a button.colab-df-convert');\n",
              "        buttonEl.style.display =\n",
              "          google.colab.kernel.accessAllowed ? 'block' : 'none';\n",
              "\n",
              "        async function convertToInteractive(key) {\n",
              "          const element = document.querySelector('#df-e80ad32e-032d-4657-b9a4-3adb41387d0a');\n",
              "          const dataTable =\n",
              "            await google.colab.kernel.invokeFunction('convertToInteractive',\n",
              "                                                     [key], {});\n",
              "          if (!dataTable) return;\n",
              "\n",
              "          const docLinkHtml = 'Like what you see? Visit the ' +\n",
              "            '<a target=\"_blank\" href=https://colab.research.google.com/notebooks/data_table.ipynb>data table notebook</a>'\n",
              "            + ' to learn more about interactive tables.';\n",
              "          element.innerHTML = '';\n",
              "          dataTable['output_type'] = 'display_data';\n",
              "          await google.colab.output.renderOutput(dataTable, element);\n",
              "          const docLink = document.createElement('div');\n",
              "          docLink.innerHTML = docLinkHtml;\n",
              "          element.appendChild(docLink);\n",
              "        }\n",
              "      </script>\n",
              "    </div>\n",
              "  </div>\n",
              "  "
            ]
          },
          "metadata": {},
          "execution_count": 60
        }
      ]
    },
    {
      "cell_type": "markdown",
      "source": [
        "Criando o conjunto de teste"
      ],
      "metadata": {
        "id": "Z54Z3DqXRZVA"
      }
    },
    {
      "cell_type": "code",
      "source": [
        "y = model_data2['NU_NOTA_MT']\n",
        "\n",
        "from sklearn.model_selection import train_test_split\n",
        "X_train, X_test, y_train, y_test = train_test_split(model_data3_labels, y, test_size=0.2, random_state=42)\n",
        "float('3,14159'.replace(',', '.'))"
      ],
      "metadata": {
        "id": "bnXFPFT3OKAt",
        "colab": {
          "base_uri": "https://localhost:8080/"
        },
        "outputId": "9819a208-4fe5-49b4-89d4-d3668e4321c9"
      },
      "execution_count": null,
      "outputs": [
        {
          "output_type": "execute_result",
          "data": {
            "text/plain": [
              "3.14159"
            ]
          },
          "metadata": {},
          "execution_count": 63
        }
      ]
    },
    {
      "cell_type": "markdown",
      "source": [
        "FAzendo a regressão "
      ],
      "metadata": {
        "id": "BIHJvaPMe1DR"
      }
    },
    {
      "cell_type": "code",
      "source": [
        "from sklearn.linear_model import LinearRegression\n",
        "\n",
        "lin_reg = LinearRegression()\n",
        "lin_reg.fit(model_data3_labels, y)\n",
        "float64('NaN'.replace('NaN', '0'))"
      ],
      "metadata": {
        "colab": {
          "base_uri": "https://localhost:8080/",
          "height": 363
        },
        "id": "pt60qFVge0mq",
        "outputId": "a500ddc3-db10-4782-9c0e-b4867e72df75"
      },
      "execution_count": null,
      "outputs": [
        {
          "output_type": "error",
          "ename": "ValueError",
          "evalue": "ignored",
          "traceback": [
            "\u001b[0;31m---------------------------------------------------------------------------\u001b[0m",
            "\u001b[0;31mValueError\u001b[0m                                Traceback (most recent call last)",
            "\u001b[0;32m<ipython-input-67-629ecafb2078>\u001b[0m in \u001b[0;36m<module>\u001b[0;34m()\u001b[0m\n\u001b[1;32m      2\u001b[0m \u001b[0;34m\u001b[0m\u001b[0m\n\u001b[1;32m      3\u001b[0m \u001b[0mlin_reg\u001b[0m \u001b[0;34m=\u001b[0m \u001b[0mLinearRegression\u001b[0m\u001b[0;34m(\u001b[0m\u001b[0;34m)\u001b[0m\u001b[0;34m\u001b[0m\u001b[0;34m\u001b[0m\u001b[0m\n\u001b[0;32m----> 4\u001b[0;31m \u001b[0mlin_reg\u001b[0m\u001b[0;34m.\u001b[0m\u001b[0mfit\u001b[0m\u001b[0;34m(\u001b[0m\u001b[0mmodel_data3_labels\u001b[0m\u001b[0;34m,\u001b[0m \u001b[0my\u001b[0m\u001b[0;34m)\u001b[0m\u001b[0;34m\u001b[0m\u001b[0;34m\u001b[0m\u001b[0m\n\u001b[0m\u001b[1;32m      5\u001b[0m \u001b[0mfloat64\u001b[0m\u001b[0;34m(\u001b[0m\u001b[0;34m'NaN'\u001b[0m\u001b[0;34m.\u001b[0m\u001b[0mreplace\u001b[0m\u001b[0;34m(\u001b[0m\u001b[0;34m'NaN'\u001b[0m\u001b[0;34m,\u001b[0m \u001b[0;34m'0'\u001b[0m\u001b[0;34m)\u001b[0m\u001b[0;34m)\u001b[0m\u001b[0;34m\u001b[0m\u001b[0;34m\u001b[0m\u001b[0m\n",
            "\u001b[0;32m/usr/local/lib/python3.7/dist-packages/sklearn/linear_model/_base.py\u001b[0m in \u001b[0;36mfit\u001b[0;34m(self, X, y, sample_weight)\u001b[0m\n\u001b[1;32m    661\u001b[0m \u001b[0;34m\u001b[0m\u001b[0m\n\u001b[1;32m    662\u001b[0m         X, y = self._validate_data(\n\u001b[0;32m--> 663\u001b[0;31m             \u001b[0mX\u001b[0m\u001b[0;34m,\u001b[0m \u001b[0my\u001b[0m\u001b[0;34m,\u001b[0m \u001b[0maccept_sparse\u001b[0m\u001b[0;34m=\u001b[0m\u001b[0maccept_sparse\u001b[0m\u001b[0;34m,\u001b[0m \u001b[0my_numeric\u001b[0m\u001b[0;34m=\u001b[0m\u001b[0;32mTrue\u001b[0m\u001b[0;34m,\u001b[0m \u001b[0mmulti_output\u001b[0m\u001b[0;34m=\u001b[0m\u001b[0;32mTrue\u001b[0m\u001b[0;34m\u001b[0m\u001b[0;34m\u001b[0m\u001b[0m\n\u001b[0m\u001b[1;32m    664\u001b[0m         )\n\u001b[1;32m    665\u001b[0m \u001b[0;34m\u001b[0m\u001b[0m\n",
            "\u001b[0;32m/usr/local/lib/python3.7/dist-packages/sklearn/base.py\u001b[0m in \u001b[0;36m_validate_data\u001b[0;34m(self, X, y, reset, validate_separately, **check_params)\u001b[0m\n\u001b[1;32m    579\u001b[0m                 \u001b[0my\u001b[0m \u001b[0;34m=\u001b[0m \u001b[0mcheck_array\u001b[0m\u001b[0;34m(\u001b[0m\u001b[0my\u001b[0m\u001b[0;34m,\u001b[0m \u001b[0;34m**\u001b[0m\u001b[0mcheck_y_params\u001b[0m\u001b[0;34m)\u001b[0m\u001b[0;34m\u001b[0m\u001b[0;34m\u001b[0m\u001b[0m\n\u001b[1;32m    580\u001b[0m             \u001b[0;32melse\u001b[0m\u001b[0;34m:\u001b[0m\u001b[0;34m\u001b[0m\u001b[0;34m\u001b[0m\u001b[0m\n\u001b[0;32m--> 581\u001b[0;31m                 \u001b[0mX\u001b[0m\u001b[0;34m,\u001b[0m \u001b[0my\u001b[0m \u001b[0;34m=\u001b[0m \u001b[0mcheck_X_y\u001b[0m\u001b[0;34m(\u001b[0m\u001b[0mX\u001b[0m\u001b[0;34m,\u001b[0m \u001b[0my\u001b[0m\u001b[0;34m,\u001b[0m \u001b[0;34m**\u001b[0m\u001b[0mcheck_params\u001b[0m\u001b[0;34m)\u001b[0m\u001b[0;34m\u001b[0m\u001b[0;34m\u001b[0m\u001b[0m\n\u001b[0m\u001b[1;32m    582\u001b[0m             \u001b[0mout\u001b[0m \u001b[0;34m=\u001b[0m \u001b[0mX\u001b[0m\u001b[0;34m,\u001b[0m \u001b[0my\u001b[0m\u001b[0;34m\u001b[0m\u001b[0;34m\u001b[0m\u001b[0m\n\u001b[1;32m    583\u001b[0m \u001b[0;34m\u001b[0m\u001b[0m\n",
            "\u001b[0;32m/usr/local/lib/python3.7/dist-packages/sklearn/utils/validation.py\u001b[0m in \u001b[0;36mcheck_X_y\u001b[0;34m(X, y, accept_sparse, accept_large_sparse, dtype, order, copy, force_all_finite, ensure_2d, allow_nd, multi_output, ensure_min_samples, ensure_min_features, y_numeric, estimator)\u001b[0m\n\u001b[1;32m    974\u001b[0m         \u001b[0mensure_min_samples\u001b[0m\u001b[0;34m=\u001b[0m\u001b[0mensure_min_samples\u001b[0m\u001b[0;34m,\u001b[0m\u001b[0;34m\u001b[0m\u001b[0;34m\u001b[0m\u001b[0m\n\u001b[1;32m    975\u001b[0m         \u001b[0mensure_min_features\u001b[0m\u001b[0;34m=\u001b[0m\u001b[0mensure_min_features\u001b[0m\u001b[0;34m,\u001b[0m\u001b[0;34m\u001b[0m\u001b[0;34m\u001b[0m\u001b[0m\n\u001b[0;32m--> 976\u001b[0;31m         \u001b[0mestimator\u001b[0m\u001b[0;34m=\u001b[0m\u001b[0mestimator\u001b[0m\u001b[0;34m,\u001b[0m\u001b[0;34m\u001b[0m\u001b[0;34m\u001b[0m\u001b[0m\n\u001b[0m\u001b[1;32m    977\u001b[0m     )\n\u001b[1;32m    978\u001b[0m \u001b[0;34m\u001b[0m\u001b[0m\n",
            "\u001b[0;32m/usr/local/lib/python3.7/dist-packages/sklearn/utils/validation.py\u001b[0m in \u001b[0;36mcheck_array\u001b[0;34m(array, accept_sparse, accept_large_sparse, dtype, order, copy, force_all_finite, ensure_2d, allow_nd, ensure_min_samples, ensure_min_features, estimator)\u001b[0m\n\u001b[1;32m    798\u001b[0m \u001b[0;34m\u001b[0m\u001b[0m\n\u001b[1;32m    799\u001b[0m         \u001b[0;32mif\u001b[0m \u001b[0mforce_all_finite\u001b[0m\u001b[0;34m:\u001b[0m\u001b[0;34m\u001b[0m\u001b[0;34m\u001b[0m\u001b[0m\n\u001b[0;32m--> 800\u001b[0;31m             \u001b[0m_assert_all_finite\u001b[0m\u001b[0;34m(\u001b[0m\u001b[0marray\u001b[0m\u001b[0;34m,\u001b[0m \u001b[0mallow_nan\u001b[0m\u001b[0;34m=\u001b[0m\u001b[0mforce_all_finite\u001b[0m \u001b[0;34m==\u001b[0m \u001b[0;34m\"allow-nan\"\u001b[0m\u001b[0;34m)\u001b[0m\u001b[0;34m\u001b[0m\u001b[0;34m\u001b[0m\u001b[0m\n\u001b[0m\u001b[1;32m    801\u001b[0m \u001b[0;34m\u001b[0m\u001b[0m\n\u001b[1;32m    802\u001b[0m     \u001b[0;32mif\u001b[0m \u001b[0mensure_min_samples\u001b[0m \u001b[0;34m>\u001b[0m \u001b[0;36m0\u001b[0m\u001b[0;34m:\u001b[0m\u001b[0;34m\u001b[0m\u001b[0;34m\u001b[0m\u001b[0m\n",
            "\u001b[0;32m/usr/local/lib/python3.7/dist-packages/sklearn/utils/validation.py\u001b[0m in \u001b[0;36m_assert_all_finite\u001b[0;34m(X, allow_nan, msg_dtype)\u001b[0m\n\u001b[1;32m    114\u001b[0m             raise ValueError(\n\u001b[1;32m    115\u001b[0m                 msg_err.format(\n\u001b[0;32m--> 116\u001b[0;31m                     \u001b[0mtype_err\u001b[0m\u001b[0;34m,\u001b[0m \u001b[0mmsg_dtype\u001b[0m \u001b[0;32mif\u001b[0m \u001b[0mmsg_dtype\u001b[0m \u001b[0;32mis\u001b[0m \u001b[0;32mnot\u001b[0m \u001b[0;32mNone\u001b[0m \u001b[0;32melse\u001b[0m \u001b[0mX\u001b[0m\u001b[0;34m.\u001b[0m\u001b[0mdtype\u001b[0m\u001b[0;34m\u001b[0m\u001b[0;34m\u001b[0m\u001b[0m\n\u001b[0m\u001b[1;32m    117\u001b[0m                 )\n\u001b[1;32m    118\u001b[0m             )\n",
            "\u001b[0;31mValueError\u001b[0m: Input contains NaN, infinity or a value too large for dtype('float64')."
          ]
        }
      ]
    },
    {
      "cell_type": "code",
      "source": [
        "some_data = model_data3_labels.iloc[:5]\n",
        "some_labels = model_data3_labels.iloc[1:5]\n",
        "print('Predictions:', lin_reg.predict(some_data))\n",
        "print('Labels:', list(some_labels))"
      ],
      "metadata": {
        "colab": {
          "base_uri": "https://localhost:8080/",
          "height": 363
        },
        "id": "mxy9_WvAGwk0",
        "outputId": "9d8e2f28-169b-49cb-b1c2-2d50d1b77436"
      },
      "execution_count": null,
      "outputs": [
        {
          "output_type": "error",
          "ename": "ValueError",
          "evalue": "ignored",
          "traceback": [
            "\u001b[0;31m---------------------------------------------------------------------------\u001b[0m",
            "\u001b[0;31mValueError\u001b[0m                                Traceback (most recent call last)",
            "\u001b[0;32m<ipython-input-52-142e8ca4a941>\u001b[0m in \u001b[0;36m<module>\u001b[0;34m()\u001b[0m\n\u001b[1;32m      1\u001b[0m \u001b[0msome_data\u001b[0m \u001b[0;34m=\u001b[0m \u001b[0mmodel_data3_labels\u001b[0m\u001b[0;34m.\u001b[0m\u001b[0miloc\u001b[0m\u001b[0;34m[\u001b[0m\u001b[0;34m:\u001b[0m\u001b[0;36m5\u001b[0m\u001b[0;34m]\u001b[0m\u001b[0;34m\u001b[0m\u001b[0;34m\u001b[0m\u001b[0m\n\u001b[1;32m      2\u001b[0m \u001b[0msome_labels\u001b[0m \u001b[0;34m=\u001b[0m \u001b[0mmodel_data3_labels\u001b[0m\u001b[0;34m.\u001b[0m\u001b[0miloc\u001b[0m\u001b[0;34m[\u001b[0m\u001b[0;36m1\u001b[0m\u001b[0;34m:\u001b[0m\u001b[0;36m5\u001b[0m\u001b[0;34m]\u001b[0m\u001b[0;34m\u001b[0m\u001b[0;34m\u001b[0m\u001b[0m\n\u001b[0;32m----> 3\u001b[0;31m \u001b[0mprint\u001b[0m\u001b[0;34m(\u001b[0m\u001b[0;34m'Predictions:'\u001b[0m\u001b[0;34m,\u001b[0m \u001b[0mlin_reg\u001b[0m\u001b[0;34m.\u001b[0m\u001b[0mpredict\u001b[0m\u001b[0;34m(\u001b[0m\u001b[0msome_data\u001b[0m\u001b[0;34m)\u001b[0m\u001b[0;34m)\u001b[0m\u001b[0;34m\u001b[0m\u001b[0;34m\u001b[0m\u001b[0m\n\u001b[0m\u001b[1;32m      4\u001b[0m \u001b[0mprint\u001b[0m\u001b[0;34m(\u001b[0m\u001b[0;34m'Labels:'\u001b[0m\u001b[0;34m,\u001b[0m \u001b[0mlist\u001b[0m\u001b[0;34m(\u001b[0m\u001b[0msome_labels\u001b[0m\u001b[0;34m)\u001b[0m\u001b[0;34m)\u001b[0m\u001b[0;34m\u001b[0m\u001b[0;34m\u001b[0m\u001b[0m\n",
            "\u001b[0;32m/usr/local/lib/python3.7/dist-packages/sklearn/linear_model/_base.py\u001b[0m in \u001b[0;36mpredict\u001b[0;34m(self, X)\u001b[0m\n\u001b[1;32m    360\u001b[0m             \u001b[0mReturns\u001b[0m \u001b[0mpredicted\u001b[0m \u001b[0mvalues\u001b[0m\u001b[0;34m.\u001b[0m\u001b[0;34m\u001b[0m\u001b[0;34m\u001b[0m\u001b[0m\n\u001b[1;32m    361\u001b[0m         \"\"\"\n\u001b[0;32m--> 362\u001b[0;31m         \u001b[0;32mreturn\u001b[0m \u001b[0mself\u001b[0m\u001b[0;34m.\u001b[0m\u001b[0m_decision_function\u001b[0m\u001b[0;34m(\u001b[0m\u001b[0mX\u001b[0m\u001b[0;34m)\u001b[0m\u001b[0;34m\u001b[0m\u001b[0;34m\u001b[0m\u001b[0m\n\u001b[0m\u001b[1;32m    363\u001b[0m \u001b[0;34m\u001b[0m\u001b[0m\n\u001b[1;32m    364\u001b[0m     \u001b[0m_preprocess_data\u001b[0m \u001b[0;34m=\u001b[0m \u001b[0mstaticmethod\u001b[0m\u001b[0;34m(\u001b[0m\u001b[0m_preprocess_data\u001b[0m\u001b[0;34m)\u001b[0m\u001b[0;34m\u001b[0m\u001b[0;34m\u001b[0m\u001b[0m\n",
            "\u001b[0;32m/usr/local/lib/python3.7/dist-packages/sklearn/linear_model/_base.py\u001b[0m in \u001b[0;36m_decision_function\u001b[0;34m(self, X)\u001b[0m\n\u001b[1;32m    343\u001b[0m         \u001b[0mcheck_is_fitted\u001b[0m\u001b[0;34m(\u001b[0m\u001b[0mself\u001b[0m\u001b[0;34m)\u001b[0m\u001b[0;34m\u001b[0m\u001b[0;34m\u001b[0m\u001b[0m\n\u001b[1;32m    344\u001b[0m \u001b[0;34m\u001b[0m\u001b[0m\n\u001b[0;32m--> 345\u001b[0;31m         \u001b[0mX\u001b[0m \u001b[0;34m=\u001b[0m \u001b[0mself\u001b[0m\u001b[0;34m.\u001b[0m\u001b[0m_validate_data\u001b[0m\u001b[0;34m(\u001b[0m\u001b[0mX\u001b[0m\u001b[0;34m,\u001b[0m \u001b[0maccept_sparse\u001b[0m\u001b[0;34m=\u001b[0m\u001b[0;34m[\u001b[0m\u001b[0;34m\"csr\"\u001b[0m\u001b[0;34m,\u001b[0m \u001b[0;34m\"csc\"\u001b[0m\u001b[0;34m,\u001b[0m \u001b[0;34m\"coo\"\u001b[0m\u001b[0;34m]\u001b[0m\u001b[0;34m,\u001b[0m \u001b[0mreset\u001b[0m\u001b[0;34m=\u001b[0m\u001b[0;32mFalse\u001b[0m\u001b[0;34m)\u001b[0m\u001b[0;34m\u001b[0m\u001b[0;34m\u001b[0m\u001b[0m\n\u001b[0m\u001b[1;32m    346\u001b[0m         \u001b[0;32mreturn\u001b[0m \u001b[0msafe_sparse_dot\u001b[0m\u001b[0;34m(\u001b[0m\u001b[0mX\u001b[0m\u001b[0;34m,\u001b[0m \u001b[0mself\u001b[0m\u001b[0;34m.\u001b[0m\u001b[0mcoef_\u001b[0m\u001b[0;34m.\u001b[0m\u001b[0mT\u001b[0m\u001b[0;34m,\u001b[0m \u001b[0mdense_output\u001b[0m\u001b[0;34m=\u001b[0m\u001b[0;32mTrue\u001b[0m\u001b[0;34m)\u001b[0m \u001b[0;34m+\u001b[0m \u001b[0mself\u001b[0m\u001b[0;34m.\u001b[0m\u001b[0mintercept_\u001b[0m\u001b[0;34m\u001b[0m\u001b[0;34m\u001b[0m\u001b[0m\n\u001b[1;32m    347\u001b[0m \u001b[0;34m\u001b[0m\u001b[0m\n",
            "\u001b[0;32m/usr/local/lib/python3.7/dist-packages/sklearn/base.py\u001b[0m in \u001b[0;36m_validate_data\u001b[0;34m(self, X, y, reset, validate_separately, **check_params)\u001b[0m\n\u001b[1;32m    564\u001b[0m             \u001b[0;32mraise\u001b[0m \u001b[0mValueError\u001b[0m\u001b[0;34m(\u001b[0m\u001b[0;34m\"Validation should be done on X, y or both.\"\u001b[0m\u001b[0;34m)\u001b[0m\u001b[0;34m\u001b[0m\u001b[0;34m\u001b[0m\u001b[0m\n\u001b[1;32m    565\u001b[0m         \u001b[0;32melif\u001b[0m \u001b[0;32mnot\u001b[0m \u001b[0mno_val_X\u001b[0m \u001b[0;32mand\u001b[0m \u001b[0mno_val_y\u001b[0m\u001b[0;34m:\u001b[0m\u001b[0;34m\u001b[0m\u001b[0;34m\u001b[0m\u001b[0m\n\u001b[0;32m--> 566\u001b[0;31m             \u001b[0mX\u001b[0m \u001b[0;34m=\u001b[0m \u001b[0mcheck_array\u001b[0m\u001b[0;34m(\u001b[0m\u001b[0mX\u001b[0m\u001b[0;34m,\u001b[0m \u001b[0;34m**\u001b[0m\u001b[0mcheck_params\u001b[0m\u001b[0;34m)\u001b[0m\u001b[0;34m\u001b[0m\u001b[0;34m\u001b[0m\u001b[0m\n\u001b[0m\u001b[1;32m    567\u001b[0m             \u001b[0mout\u001b[0m \u001b[0;34m=\u001b[0m \u001b[0mX\u001b[0m\u001b[0;34m\u001b[0m\u001b[0;34m\u001b[0m\u001b[0m\n\u001b[1;32m    568\u001b[0m         \u001b[0;32melif\u001b[0m \u001b[0mno_val_X\u001b[0m \u001b[0;32mand\u001b[0m \u001b[0;32mnot\u001b[0m \u001b[0mno_val_y\u001b[0m\u001b[0;34m:\u001b[0m\u001b[0;34m\u001b[0m\u001b[0;34m\u001b[0m\u001b[0m\n",
            "\u001b[0;32m/usr/local/lib/python3.7/dist-packages/sklearn/utils/validation.py\u001b[0m in \u001b[0;36mcheck_array\u001b[0;34m(array, accept_sparse, accept_large_sparse, dtype, order, copy, force_all_finite, ensure_2d, allow_nd, ensure_min_samples, ensure_min_features, estimator)\u001b[0m\n\u001b[1;32m    798\u001b[0m \u001b[0;34m\u001b[0m\u001b[0m\n\u001b[1;32m    799\u001b[0m         \u001b[0;32mif\u001b[0m \u001b[0mforce_all_finite\u001b[0m\u001b[0;34m:\u001b[0m\u001b[0;34m\u001b[0m\u001b[0;34m\u001b[0m\u001b[0m\n\u001b[0;32m--> 800\u001b[0;31m             \u001b[0m_assert_all_finite\u001b[0m\u001b[0;34m(\u001b[0m\u001b[0marray\u001b[0m\u001b[0;34m,\u001b[0m \u001b[0mallow_nan\u001b[0m\u001b[0;34m=\u001b[0m\u001b[0mforce_all_finite\u001b[0m \u001b[0;34m==\u001b[0m \u001b[0;34m\"allow-nan\"\u001b[0m\u001b[0;34m)\u001b[0m\u001b[0;34m\u001b[0m\u001b[0;34m\u001b[0m\u001b[0m\n\u001b[0m\u001b[1;32m    801\u001b[0m \u001b[0;34m\u001b[0m\u001b[0m\n\u001b[1;32m    802\u001b[0m     \u001b[0;32mif\u001b[0m \u001b[0mensure_min_samples\u001b[0m \u001b[0;34m>\u001b[0m \u001b[0;36m0\u001b[0m\u001b[0;34m:\u001b[0m\u001b[0;34m\u001b[0m\u001b[0;34m\u001b[0m\u001b[0m\n",
            "\u001b[0;32m/usr/local/lib/python3.7/dist-packages/sklearn/utils/validation.py\u001b[0m in \u001b[0;36m_assert_all_finite\u001b[0;34m(X, allow_nan, msg_dtype)\u001b[0m\n\u001b[1;32m    114\u001b[0m             raise ValueError(\n\u001b[1;32m    115\u001b[0m                 msg_err.format(\n\u001b[0;32m--> 116\u001b[0;31m                     \u001b[0mtype_err\u001b[0m\u001b[0;34m,\u001b[0m \u001b[0mmsg_dtype\u001b[0m \u001b[0;32mif\u001b[0m \u001b[0mmsg_dtype\u001b[0m \u001b[0;32mis\u001b[0m \u001b[0;32mnot\u001b[0m \u001b[0;32mNone\u001b[0m \u001b[0;32melse\u001b[0m \u001b[0mX\u001b[0m\u001b[0;34m.\u001b[0m\u001b[0mdtype\u001b[0m\u001b[0;34m\u001b[0m\u001b[0;34m\u001b[0m\u001b[0m\n\u001b[0m\u001b[1;32m    117\u001b[0m                 )\n\u001b[1;32m    118\u001b[0m             )\n",
            "\u001b[0;31mValueError\u001b[0m: Input contains NaN, infinity or a value too large for dtype('float64')."
          ]
        }
      ]
    },
    {
      "cell_type": "code",
      "source": [
        "from sklearn.metrics import mean_squared_error\n",
        "math_predictions = lin_reg.predict(model_data3_labels)\n",
        "lin_mse = mean_squared_error(y, math_predictions)\n",
        "lin_rmse = np.sqrt(lin_mse)\n",
        "print(lin_rmse)\n"
      ],
      "metadata": {
        "colab": {
          "base_uri": "https://localhost:8080/",
          "height": 381
        },
        "id": "6R23rOYBjx-5",
        "outputId": "72aa16db-36b1-4e3a-b770-3158bb74790f"
      },
      "execution_count": null,
      "outputs": [
        {
          "output_type": "error",
          "ename": "ValueError",
          "evalue": "ignored",
          "traceback": [
            "\u001b[0;31m---------------------------------------------------------------------------\u001b[0m",
            "\u001b[0;31mValueError\u001b[0m                                Traceback (most recent call last)",
            "\u001b[0;32m<ipython-input-53-3b8ba1f386bc>\u001b[0m in \u001b[0;36m<module>\u001b[0;34m()\u001b[0m\n\u001b[1;32m      1\u001b[0m \u001b[0;32mfrom\u001b[0m \u001b[0msklearn\u001b[0m\u001b[0;34m.\u001b[0m\u001b[0mmetrics\u001b[0m \u001b[0;32mimport\u001b[0m \u001b[0mmean_squared_error\u001b[0m\u001b[0;34m\u001b[0m\u001b[0;34m\u001b[0m\u001b[0m\n\u001b[0;32m----> 2\u001b[0;31m \u001b[0mmath_predictions\u001b[0m \u001b[0;34m=\u001b[0m \u001b[0mlin_reg\u001b[0m\u001b[0;34m.\u001b[0m\u001b[0mpredict\u001b[0m\u001b[0;34m(\u001b[0m\u001b[0mmodel_data3_labels\u001b[0m\u001b[0;34m)\u001b[0m\u001b[0;34m\u001b[0m\u001b[0;34m\u001b[0m\u001b[0m\n\u001b[0m\u001b[1;32m      3\u001b[0m \u001b[0mlin_mse\u001b[0m \u001b[0;34m=\u001b[0m \u001b[0mmean_squared_error\u001b[0m\u001b[0;34m(\u001b[0m\u001b[0my\u001b[0m\u001b[0;34m,\u001b[0m \u001b[0mmath_predictions\u001b[0m\u001b[0;34m)\u001b[0m\u001b[0;34m\u001b[0m\u001b[0;34m\u001b[0m\u001b[0m\n\u001b[1;32m      4\u001b[0m \u001b[0mlin_rmse\u001b[0m \u001b[0;34m=\u001b[0m \u001b[0mnp\u001b[0m\u001b[0;34m.\u001b[0m\u001b[0msqrt\u001b[0m\u001b[0;34m(\u001b[0m\u001b[0mlin_mse\u001b[0m\u001b[0;34m)\u001b[0m\u001b[0;34m\u001b[0m\u001b[0;34m\u001b[0m\u001b[0m\n\u001b[1;32m      5\u001b[0m \u001b[0mprint\u001b[0m\u001b[0;34m(\u001b[0m\u001b[0mlin_rmse\u001b[0m\u001b[0;34m)\u001b[0m\u001b[0;34m\u001b[0m\u001b[0;34m\u001b[0m\u001b[0m\n",
            "\u001b[0;32m/usr/local/lib/python3.7/dist-packages/sklearn/linear_model/_base.py\u001b[0m in \u001b[0;36mpredict\u001b[0;34m(self, X)\u001b[0m\n\u001b[1;32m    360\u001b[0m             \u001b[0mReturns\u001b[0m \u001b[0mpredicted\u001b[0m \u001b[0mvalues\u001b[0m\u001b[0;34m.\u001b[0m\u001b[0;34m\u001b[0m\u001b[0;34m\u001b[0m\u001b[0m\n\u001b[1;32m    361\u001b[0m         \"\"\"\n\u001b[0;32m--> 362\u001b[0;31m         \u001b[0;32mreturn\u001b[0m \u001b[0mself\u001b[0m\u001b[0;34m.\u001b[0m\u001b[0m_decision_function\u001b[0m\u001b[0;34m(\u001b[0m\u001b[0mX\u001b[0m\u001b[0;34m)\u001b[0m\u001b[0;34m\u001b[0m\u001b[0;34m\u001b[0m\u001b[0m\n\u001b[0m\u001b[1;32m    363\u001b[0m \u001b[0;34m\u001b[0m\u001b[0m\n\u001b[1;32m    364\u001b[0m     \u001b[0m_preprocess_data\u001b[0m \u001b[0;34m=\u001b[0m \u001b[0mstaticmethod\u001b[0m\u001b[0;34m(\u001b[0m\u001b[0m_preprocess_data\u001b[0m\u001b[0;34m)\u001b[0m\u001b[0;34m\u001b[0m\u001b[0;34m\u001b[0m\u001b[0m\n",
            "\u001b[0;32m/usr/local/lib/python3.7/dist-packages/sklearn/linear_model/_base.py\u001b[0m in \u001b[0;36m_decision_function\u001b[0;34m(self, X)\u001b[0m\n\u001b[1;32m    343\u001b[0m         \u001b[0mcheck_is_fitted\u001b[0m\u001b[0;34m(\u001b[0m\u001b[0mself\u001b[0m\u001b[0;34m)\u001b[0m\u001b[0;34m\u001b[0m\u001b[0;34m\u001b[0m\u001b[0m\n\u001b[1;32m    344\u001b[0m \u001b[0;34m\u001b[0m\u001b[0m\n\u001b[0;32m--> 345\u001b[0;31m         \u001b[0mX\u001b[0m \u001b[0;34m=\u001b[0m \u001b[0mself\u001b[0m\u001b[0;34m.\u001b[0m\u001b[0m_validate_data\u001b[0m\u001b[0;34m(\u001b[0m\u001b[0mX\u001b[0m\u001b[0;34m,\u001b[0m \u001b[0maccept_sparse\u001b[0m\u001b[0;34m=\u001b[0m\u001b[0;34m[\u001b[0m\u001b[0;34m\"csr\"\u001b[0m\u001b[0;34m,\u001b[0m \u001b[0;34m\"csc\"\u001b[0m\u001b[0;34m,\u001b[0m \u001b[0;34m\"coo\"\u001b[0m\u001b[0;34m]\u001b[0m\u001b[0;34m,\u001b[0m \u001b[0mreset\u001b[0m\u001b[0;34m=\u001b[0m\u001b[0;32mFalse\u001b[0m\u001b[0;34m)\u001b[0m\u001b[0;34m\u001b[0m\u001b[0;34m\u001b[0m\u001b[0m\n\u001b[0m\u001b[1;32m    346\u001b[0m         \u001b[0;32mreturn\u001b[0m \u001b[0msafe_sparse_dot\u001b[0m\u001b[0;34m(\u001b[0m\u001b[0mX\u001b[0m\u001b[0;34m,\u001b[0m \u001b[0mself\u001b[0m\u001b[0;34m.\u001b[0m\u001b[0mcoef_\u001b[0m\u001b[0;34m.\u001b[0m\u001b[0mT\u001b[0m\u001b[0;34m,\u001b[0m \u001b[0mdense_output\u001b[0m\u001b[0;34m=\u001b[0m\u001b[0;32mTrue\u001b[0m\u001b[0;34m)\u001b[0m \u001b[0;34m+\u001b[0m \u001b[0mself\u001b[0m\u001b[0;34m.\u001b[0m\u001b[0mintercept_\u001b[0m\u001b[0;34m\u001b[0m\u001b[0;34m\u001b[0m\u001b[0m\n\u001b[1;32m    347\u001b[0m \u001b[0;34m\u001b[0m\u001b[0m\n",
            "\u001b[0;32m/usr/local/lib/python3.7/dist-packages/sklearn/base.py\u001b[0m in \u001b[0;36m_validate_data\u001b[0;34m(self, X, y, reset, validate_separately, **check_params)\u001b[0m\n\u001b[1;32m    564\u001b[0m             \u001b[0;32mraise\u001b[0m \u001b[0mValueError\u001b[0m\u001b[0;34m(\u001b[0m\u001b[0;34m\"Validation should be done on X, y or both.\"\u001b[0m\u001b[0;34m)\u001b[0m\u001b[0;34m\u001b[0m\u001b[0;34m\u001b[0m\u001b[0m\n\u001b[1;32m    565\u001b[0m         \u001b[0;32melif\u001b[0m \u001b[0;32mnot\u001b[0m \u001b[0mno_val_X\u001b[0m \u001b[0;32mand\u001b[0m \u001b[0mno_val_y\u001b[0m\u001b[0;34m:\u001b[0m\u001b[0;34m\u001b[0m\u001b[0;34m\u001b[0m\u001b[0m\n\u001b[0;32m--> 566\u001b[0;31m             \u001b[0mX\u001b[0m \u001b[0;34m=\u001b[0m \u001b[0mcheck_array\u001b[0m\u001b[0;34m(\u001b[0m\u001b[0mX\u001b[0m\u001b[0;34m,\u001b[0m \u001b[0;34m**\u001b[0m\u001b[0mcheck_params\u001b[0m\u001b[0;34m)\u001b[0m\u001b[0;34m\u001b[0m\u001b[0;34m\u001b[0m\u001b[0m\n\u001b[0m\u001b[1;32m    567\u001b[0m             \u001b[0mout\u001b[0m \u001b[0;34m=\u001b[0m \u001b[0mX\u001b[0m\u001b[0;34m\u001b[0m\u001b[0;34m\u001b[0m\u001b[0m\n\u001b[1;32m    568\u001b[0m         \u001b[0;32melif\u001b[0m \u001b[0mno_val_X\u001b[0m \u001b[0;32mand\u001b[0m \u001b[0;32mnot\u001b[0m \u001b[0mno_val_y\u001b[0m\u001b[0;34m:\u001b[0m\u001b[0;34m\u001b[0m\u001b[0;34m\u001b[0m\u001b[0m\n",
            "\u001b[0;32m/usr/local/lib/python3.7/dist-packages/sklearn/utils/validation.py\u001b[0m in \u001b[0;36mcheck_array\u001b[0;34m(array, accept_sparse, accept_large_sparse, dtype, order, copy, force_all_finite, ensure_2d, allow_nd, ensure_min_samples, ensure_min_features, estimator)\u001b[0m\n\u001b[1;32m    798\u001b[0m \u001b[0;34m\u001b[0m\u001b[0m\n\u001b[1;32m    799\u001b[0m         \u001b[0;32mif\u001b[0m \u001b[0mforce_all_finite\u001b[0m\u001b[0;34m:\u001b[0m\u001b[0;34m\u001b[0m\u001b[0;34m\u001b[0m\u001b[0m\n\u001b[0;32m--> 800\u001b[0;31m             \u001b[0m_assert_all_finite\u001b[0m\u001b[0;34m(\u001b[0m\u001b[0marray\u001b[0m\u001b[0;34m,\u001b[0m \u001b[0mallow_nan\u001b[0m\u001b[0;34m=\u001b[0m\u001b[0mforce_all_finite\u001b[0m \u001b[0;34m==\u001b[0m \u001b[0;34m\"allow-nan\"\u001b[0m\u001b[0;34m)\u001b[0m\u001b[0;34m\u001b[0m\u001b[0;34m\u001b[0m\u001b[0m\n\u001b[0m\u001b[1;32m    801\u001b[0m \u001b[0;34m\u001b[0m\u001b[0m\n\u001b[1;32m    802\u001b[0m     \u001b[0;32mif\u001b[0m \u001b[0mensure_min_samples\u001b[0m \u001b[0;34m>\u001b[0m \u001b[0;36m0\u001b[0m\u001b[0;34m:\u001b[0m\u001b[0;34m\u001b[0m\u001b[0;34m\u001b[0m\u001b[0m\n",
            "\u001b[0;32m/usr/local/lib/python3.7/dist-packages/sklearn/utils/validation.py\u001b[0m in \u001b[0;36m_assert_all_finite\u001b[0;34m(X, allow_nan, msg_dtype)\u001b[0m\n\u001b[1;32m    114\u001b[0m             raise ValueError(\n\u001b[1;32m    115\u001b[0m                 msg_err.format(\n\u001b[0;32m--> 116\u001b[0;31m                     \u001b[0mtype_err\u001b[0m\u001b[0;34m,\u001b[0m \u001b[0mmsg_dtype\u001b[0m \u001b[0;32mif\u001b[0m \u001b[0mmsg_dtype\u001b[0m \u001b[0;32mis\u001b[0m \u001b[0;32mnot\u001b[0m \u001b[0;32mNone\u001b[0m \u001b[0;32melse\u001b[0m \u001b[0mX\u001b[0m\u001b[0;34m.\u001b[0m\u001b[0mdtype\u001b[0m\u001b[0;34m\u001b[0m\u001b[0;34m\u001b[0m\u001b[0m\n\u001b[0m\u001b[1;32m    117\u001b[0m                 )\n\u001b[1;32m    118\u001b[0m             )\n",
            "\u001b[0;31mValueError\u001b[0m: Input contains NaN, infinity or a value too large for dtype('float64')."
          ]
        }
      ]
    },
    {
      "cell_type": "markdown",
      "source": [
        "Fazendo a árvore de decisão"
      ],
      "metadata": {
        "id": "cLI1UUytjShZ"
      }
    },
    {
      "cell_type": "code",
      "source": [
        "from sklearn.tree import DecisionTreeRegressor\n",
        "\n",
        "tree_reg = DecisionTreeRegressor()\n",
        "tree_reg.fit(model_data3_labels, y)"
      ],
      "metadata": {
        "colab": {
          "base_uri": "https://localhost:8080/"
        },
        "id": "9YbdcuiXjSBG",
        "outputId": "0d86ba49-78ff-48a3-b3e3-e39c10ccf5bf"
      },
      "execution_count": null,
      "outputs": [
        {
          "output_type": "execute_result",
          "data": {
            "text/plain": [
              "DecisionTreeRegressor()"
            ]
          },
          "metadata": {},
          "execution_count": 40
        }
      ]
    },
    {
      "cell_type": "code",
      "source": [
        "math_predictions = tree_reg.predict(model_data3_labels)\n",
        "tree_mse = mean_squared_error(y, math_predictions)\n",
        "tree_rmse = np.sqrt(tree_mse)\n",
        "print(tree_rmse)"
      ],
      "metadata": {
        "colab": {
          "base_uri": "https://localhost:8080/"
        },
        "id": "hpw-mEHllXM8",
        "outputId": "e0084124-b026-4532-eb33-80a480c46423"
      },
      "execution_count": null,
      "outputs": [
        {
          "output_type": "stream",
          "name": "stdout",
          "text": [
            "6.252695558013425e-12\n"
          ]
        }
      ]
    },
    {
      "cell_type": "markdown",
      "source": [
        "Validação cruzada"
      ],
      "metadata": {
        "id": "xIX7k8FXUuI2"
      }
    },
    {
      "cell_type": "code",
      "source": [
        "from sklearn.model_selection import cross_val_score\n",
        "\n",
        "scores = cross_val_score(tree_reg, model_data3_labels, y,\n",
        "                         scoring=\"neg_mean_squared_error\", cv=10)\n",
        "tree_rmse_scores = np.sqrt(-scores)"
      ],
      "metadata": {
        "id": "ylAI9tSf1WQI"
      },
      "execution_count": null,
      "outputs": []
    },
    {
      "cell_type": "code",
      "source": [
        "def display_scores(scores):\n",
        "    print(\"Scores:\", scores)\n",
        "    print(\"Mean:\", scores.mean())\n",
        "    print(\"Standard deviation:\", scores.std())"
      ],
      "metadata": {
        "id": "GPmnP-gl_xI-"
      },
      "execution_count": null,
      "outputs": []
    },
    {
      "cell_type": "code",
      "source": [
        "display_scores(tree_rmse_scores)"
      ],
      "metadata": {
        "colab": {
          "base_uri": "https://localhost:8080/"
        },
        "id": "vH_-2KzWAUmo",
        "outputId": "23936701-b099-4f6f-85d8-5f06cebc5fcb"
      },
      "execution_count": null,
      "outputs": [
        {
          "output_type": "stream",
          "name": "stdout",
          "text": [
            "Scores: [0.00125945 0.00114147 0.0013776  0.00107765 0.00102374 0.00124815\n",
            " 0.00194823 0.00198424 0.00103748 0.00134641]\n",
            "Mean: 0.0013444419276070492\n",
            "Standard deviation: 0.00033180531968200804\n"
          ]
        }
      ]
    },
    {
      "cell_type": "markdown",
      "source": [
        "Agora vamos rodar a Floresta Aleatória"
      ],
      "metadata": {
        "id": "p6QcK-VfCVKy"
      }
    },
    {
      "cell_type": "code",
      "source": [
        "from sklearn.ensemble import RandomForestRegressor\n",
        "forest_reg = RandomForestRegressor()\n",
        "forest_reg.fit(model_data3_labels, y)"
      ],
      "metadata": {
        "colab": {
          "base_uri": "https://localhost:8080/"
        },
        "id": "ZN6l_fteBNqV",
        "outputId": "99b0d8cd-5fc5-42b8-e2da-9f1d4e89d9c8"
      },
      "execution_count": null,
      "outputs": [
        {
          "output_type": "execute_result",
          "data": {
            "text/plain": [
              "RandomForestRegressor()"
            ]
          },
          "metadata": {},
          "execution_count": 46
        }
      ]
    },
    {
      "cell_type": "code",
      "source": [
        "math_predictions = forest_reg.predict(model_data3_labels)\n",
        "forest_mse = mean_squared_error(y, math_predictions)\n",
        "forest_rmse = np.sqrt(forest_mse)\n",
        "print(tree_rmse)"
      ],
      "metadata": {
        "colab": {
          "base_uri": "https://localhost:8080/"
        },
        "id": "wlAM5byrCE6q",
        "outputId": "487c92c9-4691-4d83-f434-e234a539b7fc"
      },
      "execution_count": null,
      "outputs": [
        {
          "output_type": "stream",
          "name": "stdout",
          "text": [
            "6.252695558013425e-12\n"
          ]
        }
      ]
    },
    {
      "cell_type": "code",
      "source": [
        "scores = cross_val_score(forest_reg, model_data3_labels, y,\n",
        "                         scoring=\"neg_mean_squared_error\", cv=10)\n",
        "forest_rmse_scores = np.sqrt(-scores)"
      ],
      "metadata": {
        "colab": {
          "base_uri": "https://localhost:8080/",
          "height": 201
        },
        "id": "F2hSuLgqYwor",
        "outputId": "1d35ef12-670b-48aa-a1f3-d1cea0f90bda"
      },
      "execution_count": null,
      "outputs": [
        {
          "output_type": "error",
          "ename": "NameError",
          "evalue": "ignored",
          "traceback": [
            "\u001b[0;31m---------------------------------------------------------------------------\u001b[0m",
            "\u001b[0;31mNameError\u001b[0m                                 Traceback (most recent call last)",
            "\u001b[0;32m<ipython-input-3-42d3f3f4a48d>\u001b[0m in \u001b[0;36m<module>\u001b[0;34m()\u001b[0m\n\u001b[0;32m----> 1\u001b[0;31m scores = cross_val_score(forest_reg, model_data3_labels, y,\n\u001b[0m\u001b[1;32m      2\u001b[0m                          scoring=\"neg_mean_squared_error\", cv=10)\n\u001b[1;32m      3\u001b[0m \u001b[0mforest_rmse_scores\u001b[0m \u001b[0;34m=\u001b[0m \u001b[0mnp\u001b[0m\u001b[0;34m.\u001b[0m\u001b[0msqrt\u001b[0m\u001b[0;34m(\u001b[0m\u001b[0;34m-\u001b[0m\u001b[0mscores\u001b[0m\u001b[0;34m)\u001b[0m\u001b[0;34m\u001b[0m\u001b[0;34m\u001b[0m\u001b[0m\n",
            "\u001b[0;31mNameError\u001b[0m: name 'cross_val_score' is not defined"
          ]
        }
      ]
    },
    {
      "cell_type": "code",
      "source": [
        "display_scores(forest_rmse_scores)"
      ],
      "metadata": {
        "id": "5ScG92NZZCIs"
      },
      "execution_count": null,
      "outputs": []
    },
    {
      "cell_type": "markdown",
      "source": [
        "Fazendo o Grid Search"
      ],
      "metadata": {
        "id": "_b5t9opaT7HV"
      }
    },
    {
      "cell_type": "code",
      "source": [
        "from sklearn.model_selection import GridSearchCV\n",
        "param_grid = [\n",
        "              {'n_estimators': [3, 10, 30], 'max_features':[2, 4, 6, 8]},\n",
        "              {'bootstrap': [False], 'n_estimators': [3, 10], 'max_features': [2, 3, 4]},\n",
        "  ]\n",
        "forest_reg = RandomForestRegressor()\n",
        "grid_search = GridSearchCV(forest_reg, param_grid, cv=5,\n",
        "                           scoring='neg_mean_squared_error',\n",
        "                           return_train_score=True)\n",
        "grid_search.fit(model_data3_labels, y)\n"
      ],
      "metadata": {
        "colab": {
          "base_uri": "https://localhost:8080/",
          "height": 235
        },
        "id": "dimCSuAmTHur",
        "outputId": "966038a9-a014-4583-f2a2-76d0833aac72"
      },
      "execution_count": null,
      "outputs": [
        {
          "output_type": "error",
          "ename": "NameError",
          "evalue": "ignored",
          "traceback": [
            "\u001b[0;31m---------------------------------------------------------------------------\u001b[0m",
            "\u001b[0;31mNameError\u001b[0m                                 Traceback (most recent call last)",
            "\u001b[0;32m<ipython-input-4-1f51475486c1>\u001b[0m in \u001b[0;36m<module>\u001b[0;34m()\u001b[0m\n\u001b[1;32m      4\u001b[0m               \u001b[0;34m{\u001b[0m\u001b[0;34m'bootstrap'\u001b[0m\u001b[0;34m:\u001b[0m \u001b[0;34m[\u001b[0m\u001b[0;32mFalse\u001b[0m\u001b[0;34m]\u001b[0m\u001b[0;34m,\u001b[0m \u001b[0;34m'n_estimators'\u001b[0m\u001b[0;34m:\u001b[0m \u001b[0;34m[\u001b[0m\u001b[0;36m3\u001b[0m\u001b[0;34m,\u001b[0m \u001b[0;36m10\u001b[0m\u001b[0;34m]\u001b[0m\u001b[0;34m,\u001b[0m \u001b[0;34m'max_features'\u001b[0m\u001b[0;34m:\u001b[0m \u001b[0;34m[\u001b[0m\u001b[0;36m2\u001b[0m\u001b[0;34m,\u001b[0m \u001b[0;36m3\u001b[0m\u001b[0;34m,\u001b[0m \u001b[0;36m4\u001b[0m\u001b[0;34m]\u001b[0m\u001b[0;34m}\u001b[0m\u001b[0;34m,\u001b[0m\u001b[0;34m\u001b[0m\u001b[0;34m\u001b[0m\u001b[0m\n\u001b[1;32m      5\u001b[0m   ]\n\u001b[0;32m----> 6\u001b[0;31m \u001b[0mforest_reg\u001b[0m \u001b[0;34m=\u001b[0m \u001b[0mRandomForestRegressor\u001b[0m\u001b[0;34m(\u001b[0m\u001b[0;34m)\u001b[0m\u001b[0;34m\u001b[0m\u001b[0;34m\u001b[0m\u001b[0m\n\u001b[0m\u001b[1;32m      7\u001b[0m grid_search = GridSearchCV(forest_reg, param_grid, cv=5,\n\u001b[1;32m      8\u001b[0m                            \u001b[0mscoring\u001b[0m\u001b[0;34m=\u001b[0m\u001b[0;34m'neg_mean_squared_error'\u001b[0m\u001b[0;34m,\u001b[0m\u001b[0;34m\u001b[0m\u001b[0;34m\u001b[0m\u001b[0m\n",
            "\u001b[0;31mNameError\u001b[0m: name 'RandomForestRegressor' is not defined"
          ]
        }
      ]
    },
    {
      "cell_type": "code",
      "source": [
        "grid_search.best_params_"
      ],
      "metadata": {
        "colab": {
          "base_uri": "https://localhost:8080/",
          "height": 166
        },
        "id": "-GJ_-RgYXoL1",
        "outputId": "94884771-90a2-45dc-eb27-fab19ff081bf"
      },
      "execution_count": null,
      "outputs": [
        {
          "output_type": "error",
          "ename": "NameError",
          "evalue": "ignored",
          "traceback": [
            "\u001b[0;31m---------------------------------------------------------------------------\u001b[0m",
            "\u001b[0;31mNameError\u001b[0m                                 Traceback (most recent call last)",
            "\u001b[0;32m<ipython-input-5-b1068600e498>\u001b[0m in \u001b[0;36m<module>\u001b[0;34m()\u001b[0m\n\u001b[0;32m----> 1\u001b[0;31m \u001b[0mgrid_search\u001b[0m\u001b[0;34m.\u001b[0m\u001b[0mbest_params_\u001b[0m\u001b[0;34m\u001b[0m\u001b[0;34m\u001b[0m\u001b[0m\n\u001b[0m",
            "\u001b[0;31mNameError\u001b[0m: name 'grid_search' is not defined"
          ]
        }
      ]
    },
    {
      "cell_type": "code",
      "source": [
        "y = model_data3_labels['NU_NOTA_MT']\n",
        "\n",
        "from sklearn.model_selection import train_test_split\n",
        "X_train, X_test, y_train, y_test = train_test_split(X3_labels, y, test_size=0.3, random_state=101)"
      ],
      "metadata": {
        "colab": {
          "base_uri": "https://localhost:8080/",
          "height": 218
        },
        "id": "YOQSzsEia4gw",
        "outputId": "271ef23f-e303-4766-cd68-5544c215a0eb"
      },
      "execution_count": null,
      "outputs": [
        {
          "output_type": "error",
          "ename": "NameError",
          "evalue": "ignored",
          "traceback": [
            "\u001b[0;31m---------------------------------------------------------------------------\u001b[0m",
            "\u001b[0;31mNameError\u001b[0m                                 Traceback (most recent call last)",
            "\u001b[0;32m<ipython-input-8-38bd0cb5412e>\u001b[0m in \u001b[0;36m<module>\u001b[0;34m()\u001b[0m\n\u001b[0;32m----> 1\u001b[0;31m \u001b[0my\u001b[0m \u001b[0;34m=\u001b[0m \u001b[0mmodel_data3_labels\u001b[0m\u001b[0;34m[\u001b[0m\u001b[0;34m'NU_NOTA_MT'\u001b[0m\u001b[0;34m]\u001b[0m\u001b[0;34m\u001b[0m\u001b[0;34m\u001b[0m\u001b[0m\n\u001b[0m\u001b[1;32m      2\u001b[0m \u001b[0;34m\u001b[0m\u001b[0m\n\u001b[1;32m      3\u001b[0m \u001b[0;32mfrom\u001b[0m \u001b[0msklearn\u001b[0m\u001b[0;34m.\u001b[0m\u001b[0mmodel_selection\u001b[0m \u001b[0;32mimport\u001b[0m \u001b[0mtrain_test_split\u001b[0m\u001b[0;34m\u001b[0m\u001b[0;34m\u001b[0m\u001b[0m\n\u001b[1;32m      4\u001b[0m \u001b[0mX_train\u001b[0m\u001b[0;34m,\u001b[0m \u001b[0mX_test\u001b[0m\u001b[0;34m,\u001b[0m \u001b[0my_train\u001b[0m\u001b[0;34m,\u001b[0m \u001b[0my_test\u001b[0m \u001b[0;34m=\u001b[0m \u001b[0mtrain_test_split\u001b[0m\u001b[0;34m(\u001b[0m\u001b[0mX3_labels\u001b[0m\u001b[0;34m,\u001b[0m \u001b[0my\u001b[0m\u001b[0;34m,\u001b[0m \u001b[0mtest_size\u001b[0m\u001b[0;34m=\u001b[0m\u001b[0;36m0.3\u001b[0m\u001b[0;34m,\u001b[0m \u001b[0mrandom_state\u001b[0m\u001b[0;34m=\u001b[0m\u001b[0;36m101\u001b[0m\u001b[0;34m)\u001b[0m\u001b[0;34m\u001b[0m\u001b[0;34m\u001b[0m\u001b[0m\n",
            "\u001b[0;31mNameError\u001b[0m: name 'model_data3_labels' is not defined"
          ]
        }
      ]
    },
    {
      "cell_type": "code",
      "source": [
        "from xgboost import XGBRegressor\n",
        "\n",
        "xgbr = XGBRegressor(n_estimators=1000)\n",
        "xgbr_model = xgbr.fit(X_train, y_train, early_stopping_rounds=10, eval_set=[(X_test, y_test)], verbose=0)\n",
        "            \n",
        "\n",
        "#plotando as feature importances\n",
        "from xgboost import plot_importance\n",
        "\n",
        "plot_importance(xgbr, show_values=False, importance_type=\"weight\")\n",
        "plt.title(\"Feature Importances by weight\")\n",
        "plt.show()\n",
        "\n",
        "plot_importance(xgbr, show_values=False, importance_type=\"cover\")\n",
        "plt.title(\"Feature Importances by cover\")\n",
        "plt.show()\n",
        "\n",
        "\n",
        "plot_importance(xgbr, show_values=False, importance_type=\"gain\")\n",
        "plt.title(\"Feature Importances by gain\")\n",
        "plt.show()\n",
        "\n",
        "#avaliando métricas do modelo\n",
        "predictions = xgbr.predict(X_test)\n",
        "\n",
        "print('Resultado XGBoost')\n",
        "print('MAE:', metrics.mean_absolute_error(y_test, predictions))\n",
        "print('RMSE:', np.sqrt(metrics.mean_squared_error(y_test, predictions)))\n",
        "\n",
        "sns.distplot((y_test-predictions),bins=50)"
      ],
      "metadata": {
        "colab": {
          "base_uri": "https://localhost:8080/",
          "height": 235
        },
        "id": "l0QyWfc9WYUt",
        "outputId": "c6a29a9f-82bf-4740-db37-08c173a4727f"
      },
      "execution_count": null,
      "outputs": [
        {
          "output_type": "error",
          "ename": "NameError",
          "evalue": "ignored",
          "traceback": [
            "\u001b[0;31m---------------------------------------------------------------------------\u001b[0m",
            "\u001b[0;31mNameError\u001b[0m                                 Traceback (most recent call last)",
            "\u001b[0;32m<ipython-input-6-8c06fac5030c>\u001b[0m in \u001b[0;36m<module>\u001b[0;34m()\u001b[0m\n\u001b[1;32m      2\u001b[0m \u001b[0;34m\u001b[0m\u001b[0m\n\u001b[1;32m      3\u001b[0m \u001b[0mxgbr\u001b[0m \u001b[0;34m=\u001b[0m \u001b[0mXGBRegressor\u001b[0m\u001b[0;34m(\u001b[0m\u001b[0mn_estimators\u001b[0m\u001b[0;34m=\u001b[0m\u001b[0;36m1000\u001b[0m\u001b[0;34m)\u001b[0m\u001b[0;34m\u001b[0m\u001b[0;34m\u001b[0m\u001b[0m\n\u001b[0;32m----> 4\u001b[0;31m \u001b[0mxgbr_model\u001b[0m \u001b[0;34m=\u001b[0m \u001b[0mxgbr\u001b[0m\u001b[0;34m.\u001b[0m\u001b[0mfit\u001b[0m\u001b[0;34m(\u001b[0m\u001b[0mX_train\u001b[0m\u001b[0;34m,\u001b[0m \u001b[0my_train\u001b[0m\u001b[0;34m,\u001b[0m \u001b[0mearly_stopping_rounds\u001b[0m\u001b[0;34m=\u001b[0m\u001b[0;36m10\u001b[0m\u001b[0;34m,\u001b[0m \u001b[0meval_set\u001b[0m\u001b[0;34m=\u001b[0m\u001b[0;34m[\u001b[0m\u001b[0;34m(\u001b[0m\u001b[0mX_test\u001b[0m\u001b[0;34m,\u001b[0m \u001b[0my_test\u001b[0m\u001b[0;34m)\u001b[0m\u001b[0;34m]\u001b[0m\u001b[0;34m,\u001b[0m \u001b[0mverbose\u001b[0m\u001b[0;34m=\u001b[0m\u001b[0;36m0\u001b[0m\u001b[0;34m)\u001b[0m\u001b[0;34m\u001b[0m\u001b[0;34m\u001b[0m\u001b[0m\n\u001b[0m\u001b[1;32m      5\u001b[0m \u001b[0;34m\u001b[0m\u001b[0m\n\u001b[1;32m      6\u001b[0m \u001b[0;34m\u001b[0m\u001b[0m\n",
            "\u001b[0;31mNameError\u001b[0m: name 'X_train' is not defined"
          ]
        }
      ]
    },
    {
      "cell_type": "markdown",
      "source": [
        "Verificamos que as features mais importantes são:\n",
        "\n",
        "1) Máx. escolaridade dos pais\n",
        "\n",
        "2) Renda\n",
        "\n",
        "3) Raça\n",
        "\n",
        "4) Se há carros na residência\n",
        "\n",
        "5) Se há empregada doméstica"
      ],
      "metadata": {
        "id": "BnvHAvKZbnEN"
      }
    }
  ]
}